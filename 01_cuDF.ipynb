{
 "cells": [
  {
   "cell_type": "markdown",
   "metadata": {},
   "source": [
    "<img src='images/DLI_Header.png'>"
   ]
  },
  {
   "cell_type": "markdown",
   "metadata": {},
   "source": [
    "# Accelerate Data Science Workflows with Zero Code Changes #"
   ]
  },
  {
   "cell_type": "markdown",
   "metadata": {},
   "source": [
    "## 01 - 10 Minutes to RAPIDS cuDF's pandas accelerator mode (cudf.pandas) ##\n",
    "cuDF is a Python GPU DataFrame library (built on the Apache Arrow columnar memory format) for loading, joining, aggregating, filtering, and otherwise manipulating tabular data using a DataFrame style API in the style of pandas. cuDF now provides a pandas accelerator mode (`cudf.pandas`), allowing you to bring accelerated computing to your pandas workflows without requiring any code change. \n",
    "\n",
    "**Table of Contents**\n",
    "<br>\n",
    "This notebook is a short introduction to `cudf.pandas`. This notebook covers the below sections: \n",
    "1. [Verify your setup](#s1-1)\n",
    "2. [Download the data](#s1-2)\n",
    "    * [Data License and Terms](#s1-2.1)\n",
    "3. [Analysis using Standard Pandas](#s1-3)\n",
    "    * [Which parking violation is most commonly committed by vehicles from various U.S states](#s1-3.1)\n",
    "    * [Which vehicle body types are most frequently involved in parking violations](#s1-3.2)\n",
    "    * [How do parking violations vary across days of the week](#s1-3.3)\n",
    "    * [Let's time it](#s1-3.4)\n",
    "4. [Using cuDF's pandas accelerator mode (cudf.pandas)](#s1-4)\n",
    "5. [Understanding Performance](#s1-5)\n",
    "    * [Profiling Functionality](#s1-5.1)\n",
    "    * [Behind the scenes: What's going on here](#s1-5.2)\n",
    "6. [Using third-party libraries with cuDF's pandas accelerator mode](#s1-6)\n",
    "    * [Visualizing which states have more pickup trucks relative to other vehicles](#s1-6.1)\n",
    "    * [Beyond just passing data: Accelerating third-party code](#s1-6.2)\n",
    "7. [Conclusion](#s1-7)"
   ]
  },
  {
   "cell_type": "markdown",
   "metadata": {
    "id": "SH_h6ci1Sx0u"
   },
   "source": [
    "<a name='s1-1'></a>\n",
    "## ⚠️ Verify your setup ## \n",
    "First, we'll verify that you are running with an NVIDIA GPU and that cuDF is available."
   ]
  },
  {
   "cell_type": "code",
   "execution_count": null,
   "metadata": {
    "colab": {
     "base_uri": "https://localhost:8080/"
    },
    "id": "Y2vPCtXcCvUR",
    "outputId": "baface74-0ec3-4aac-e31e-5bddc33f3675",
    "tags": []
   },
   "outputs": [],
   "source": [
    "!nvidia-smi  # this should display information about available GPUs"
   ]
  },
  {
   "cell_type": "code",
   "execution_count": null,
   "metadata": {
    "id": "zhPt4Xj8THgo",
    "tags": []
   },
   "outputs": [],
   "source": [
    "import cudf  # this should work without any errors"
   ]
  },
  {
   "cell_type": "markdown",
   "metadata": {
    "id": "4iryQthjTMXQ"
   },
   "source": [
    "We'll also install `plotly-express` for visualizing data."
   ]
  },
  {
   "cell_type": "code",
   "execution_count": null,
   "metadata": {
    "colab": {
     "base_uri": "https://localhost:8080/"
    },
    "id": "kzBF7A8qTM27",
    "outputId": "0b366672-ce78-4ea9-c456-c469df616beb",
    "tags": []
   },
   "outputs": [],
   "source": [
    "!pip install plotly-express"
   ]
  },
  {
   "cell_type": "markdown",
   "metadata": {
    "id": "4zGUeWvcTbDs"
   },
   "source": [
    "<a name='s1-2'></a>\n",
    "## Download the data ##\n",
    "The data we'll be working with is the [Parking Violations Issued - Fiscal Year 2022](https://data.cityofnewyork.us/City-Government/Parking-Violations-Issued-Fiscal-Year-2022/7mxj-7a6y) dataset from NYC Open Data. We're downloading a copy of this dataset from an s3 bucket hosted by NVIDIA to provide faster download speeds. We'll start by downloading the data. This should take about 30 seconds."
   ]
  },
  {
   "cell_type": "markdown",
   "metadata": {},
   "source": [
    "<a name='s1-2.1'></a>\n",
    "### Data License and Terms ###\n",
    "As this dataset originates from the NYC Open Data Portal, it's governed by their license and terms of use.\n",
    "\n",
    "**Are there restrictions on how I can use Open Data?**\n",
    "> Open Data belongs to all New Yorkers. There are no restrictions on the use of Open Data. Refer to Terms of Use for more information.\n",
    "\n",
    "**[Terms of Use](https://opendata.cityofnewyork.us/overview/#termsofuse)**\n",
    "> By accessing datasets and feeds available through NYC Open Data, the user agrees to all of the Terms of Use of NYC.gov as well as the Privacy Policy for NYC.gov. The user also agrees to any additional terms of use defined by the agencies, bureaus, and offices providing data. Public data sets made available on NYC Open Data are provided for informational purposes. The City does not warranty the completeness, accuracy, content, or fitness for any particular purpose or use of any public data set made available on NYC Open Data, nor are any such warranties to be implied or inferred with respect to the public data sets furnished therein.\n",
    "\n",
    "> The City is not liable for any deficiencies in the completeness, accuracy, content, or fitness for any particular purpose or use of any public data set, or application utilizing such data set, provided by any third party.\n",
    "\n",
    "> Submitting City Agencies are the authoritative source of data available on NYC Open Data. These entities are responsible for data quality and retain version control of data sets and feeds accessed on the Site. Data may be updated, corrected, or refreshed at any time."
   ]
  },
  {
   "cell_type": "code",
   "execution_count": null,
   "metadata": {
    "colab": {
     "base_uri": "https://localhost:8080/"
    },
    "id": "5EoQqNwsTqeP",
    "outputId": "a0e9bbb5-e88a-496a-c600-6429a27cdec2",
    "tags": []
   },
   "outputs": [],
   "source": [
    "!wget https://data.rapids.ai/datasets/nyc_parking/nyc_parking_violations_2022.parquet"
   ]
  },
  {
   "cell_type": "markdown",
   "metadata": {
    "id": "hAvNFbYKWwti"
   },
   "source": [
    "<a name='s1-3'></a>\n",
    "## Analysis using Standard pandas ##\n",
    "First, let's use pandas to read in some columns of the dataset:"
   ]
  },
  {
   "cell_type": "code",
   "execution_count": null,
   "metadata": {
    "id": "SLRleX9xWxqX",
    "tags": []
   },
   "outputs": [],
   "source": [
    "import pandas as pd"
   ]
  },
  {
   "cell_type": "code",
   "execution_count": null,
   "metadata": {
    "colab": {
     "base_uri": "https://localhost:8080/",
     "height": 363
    },
    "id": "OLatEi7rW0la",
    "outputId": "22cfa4c5-58ee-4514-ecb1-f984f241a465",
    "tags": []
   },
   "outputs": [],
   "source": [
    "# read 5 columns data:\n",
    "df = pd.read_parquet(\n",
    "    \"nyc_parking_violations_2022.parquet\",\n",
    "    columns=[\"Registration State\", \"Violation Description\", \"Vehicle Body Type\", \"Issue Date\", \"Summons Number\"]\n",
    ")\n",
    "\n",
    "# view a random sample of 10 rows:\n",
    "df.sample(10)"
   ]
  },
  {
   "cell_type": "markdown",
   "metadata": {
    "id": "m7qXNJU9W53D"
   },
   "source": [
    "Next, we'll try to answer a few questions using the data."
   ]
  },
  {
   "cell_type": "markdown",
   "metadata": {
    "id": "VmkFv9ZUW37g"
   },
   "source": [
    "<a name='s1-3.1'></a>\n",
    "### Which parking violation is most commonly committed by vehicles from various U.S states? ###\n",
    "Each record in our dataset contains the state of registration of the offending vehicle, and the type of parking offence. Let's say we want to get the most common type of offence for vehicles registered in different states. We can do this in pandas using a combination of [value_counts](https://pandas.pydata.org/docs/reference/api/pandas.Series.value_counts.html) and [GroupBy.head](https://pandas.pydata.org/docs/reference/api/pandas.core.groupby.DataFrameGroupBy.head.html):"
   ]
  },
  {
   "cell_type": "code",
   "execution_count": null,
   "metadata": {
    "colab": {
     "base_uri": "https://localhost:8080/",
     "height": 423
    },
    "id": "bHXq-s_ZXOQN",
    "outputId": "a0ca97bc-0c91-4f89-931b-bb0377e1c1c8",
    "tags": []
   },
   "outputs": [],
   "source": [
    "(df[[\"Registration State\", \"Violation Description\"]]  # get only these two columns\n",
    " .value_counts()  # get the count of offences per state and per type of offence\n",
    " .groupby(\"Registration State\")  # group by state\n",
    " .head(1)  # get the first row in each group (the type of offence with the largest count)\n",
    " .sort_index()  # sort by state name\n",
    " .reset_index()\n",
    ")"
   ]
  },
  {
   "cell_type": "markdown",
   "metadata": {
    "id": "8lXF4v4SXRf3"
   },
   "source": [
    "The code above uses [method chaining](https://tomaugspurger.net/posts/method-chaining/) to combine a series of operations into a single statement. You might find it useful to break the code up into multiple statements and inspect each of the intermediate results!"
   ]
  },
  {
   "cell_type": "markdown",
   "metadata": {
    "id": "H7_9EmGyXUJd"
   },
   "source": [
    "<a name='s1-3.2'></a>\n",
    "### Which vehicle body types are most frequently involved in parking violations? ###\n",
    "We can also investigate which vehicle body types most commonly appear in parking violations. "
   ]
  },
  {
   "cell_type": "code",
   "execution_count": null,
   "metadata": {
    "colab": {
     "base_uri": "https://localhost:8080/",
     "height": 455
    },
    "id": "d7Ax-u4TXZtp",
    "outputId": "0feeca28-ca17-4818-8ecb-d62ea5e1c1db",
    "tags": []
   },
   "outputs": [],
   "source": [
    "(df\n",
    " .groupby([\"Vehicle Body Type\"])\n",
    " .agg({\"Summons Number\": \"count\"})\n",
    " .rename(columns={\"Summons Number\": \"Count\"})\n",
    " .sort_values([\"Count\"], ascending=False)\n",
    ")"
   ]
  },
  {
   "cell_type": "markdown",
   "metadata": {
    "id": "VjFfQLZHXehM"
   },
   "source": [
    "<a name='s1-3.3'></a>\n",
    "### How do parking violations vary across days of the week? ###"
   ]
  },
  {
   "cell_type": "code",
   "execution_count": null,
   "metadata": {
    "colab": {
     "base_uri": "https://localhost:8080/"
    },
    "id": "s5_y9m_AXhIw",
    "outputId": "11d16e26-4a5d-4fbb-c777-7d50a23895ae",
    "tags": []
   },
   "outputs": [],
   "source": [
    "weekday_names = {\n",
    "    0: \"Monday\",\n",
    "    1: \"Tuesday\",\n",
    "    2: \"Wednesday\",\n",
    "    3: \"Thursday\",\n",
    "    4: \"Friday\",\n",
    "    5: \"Saturday\",\n",
    "    6: \"Sunday\",\n",
    "}\n",
    "\n",
    "df[\"Issue Date\"] = df[\"Issue Date\"].astype(\"datetime64[ms]\")\n",
    "df[\"issue_weekday\"] = df[\"Issue Date\"].dt.weekday.map(weekday_names)\n",
    "\n",
    "df.groupby([\"issue_weekday\"])[\"Summons Number\"].count().sort_values()"
   ]
  },
  {
   "cell_type": "markdown",
   "metadata": {
    "id": "LDeYr6xkXiDc"
   },
   "source": [
    "It looks like there are fewer violations on weekends, which makes sense! During the week, more people are driving in New York City."
   ]
  },
  {
   "cell_type": "markdown",
   "metadata": {
    "id": "JKBQcT64XlMr"
   },
   "source": [
    "<a name='s1-3.4'></a>\n",
    "### Let's time it! ###\n",
    "Loading and processing this data took a little time. Let's measure how long these pipelines take in pandas:"
   ]
  },
  {
   "cell_type": "code",
   "execution_count": null,
   "metadata": {
    "colab": {
     "base_uri": "https://localhost:8080/",
     "height": 458
    },
    "id": "mDpQhus-Xnfs",
    "outputId": "e9af1194-a0f8-48d4-a1b3-42dba63f3110",
    "tags": []
   },
   "outputs": [],
   "source": [
    "%%time\n",
    "\n",
    "df = pd.read_parquet(\n",
    "    \"nyc_parking_violations_2022.parquet\",\n",
    "    columns=[\"Registration State\", \"Violation Description\", \"Vehicle Body Type\", \"Issue Date\", \"Summons Number\"]\n",
    ")\n",
    "\n",
    "(df[[\"Registration State\", \"Violation Description\"]]\n",
    " .value_counts()\n",
    " .groupby(\"Registration State\")\n",
    " .head(1)\n",
    " .sort_index()\n",
    " .reset_index()\n",
    ")"
   ]
  },
  {
   "cell_type": "code",
   "execution_count": null,
   "metadata": {
    "colab": {
     "base_uri": "https://localhost:8080/",
     "height": 490
    },
    "id": "9Gw5TWH2Xqgv",
    "outputId": "eabf2e77-6fef-4751-d682-7c5c51ebc86e",
    "tags": []
   },
   "outputs": [],
   "source": [
    "%%time\n",
    "\n",
    "(df\n",
    " .groupby([\"Vehicle Body Type\"])\n",
    " .agg({\"Summons Number\": \"count\"})\n",
    " .rename(columns={\"Summons Number\": \"Count\"})\n",
    " .sort_values([\"Count\"], ascending=False)\n",
    ")"
   ]
  },
  {
   "cell_type": "code",
   "execution_count": null,
   "metadata": {
    "colab": {
     "base_uri": "https://localhost:8080/"
    },
    "id": "BovQgNrpXr2l",
    "outputId": "01b2c4fc-8c8c-4947-92a2-a3e2f0a7cf14",
    "tags": []
   },
   "outputs": [],
   "source": [
    "%%time\n",
    "\n",
    "weekday_names = {\n",
    "    0: \"Monday\",\n",
    "    1: \"Tuesday\",\n",
    "    2: \"Wednesday\",\n",
    "    3: \"Thursday\",\n",
    "    4: \"Friday\",\n",
    "    5: \"Saturday\",\n",
    "    6: \"Sunday\",\n",
    "}\n",
    "\n",
    "df[\"Issue Date\"] = df[\"Issue Date\"].astype(\"datetime64[ms]\")\n",
    "df[\"issue_weekday\"] = df[\"Issue Date\"].dt.weekday.map(weekday_names)\n",
    "\n",
    "df.groupby([\"issue_weekday\"])[\"Summons Number\"].count().sort_values()"
   ]
  },
  {
   "cell_type": "markdown",
   "metadata": {
    "id": "VgAWS0yXXtGj"
   },
   "source": [
    "<a name='s1-4'></a>\n",
    "## Using cuDF's pandas accelerator mode (cudf.pandas) ##\n",
    "Now, let's re-run the pandas code above with the `cudf.pandas` extension loaded. Typically, you should load the `cudf.pandas` extension as the first step in your notebook, before importing any modules. Here, we explicitly restart the kernel to simulate that behavior."
   ]
  },
  {
   "cell_type": "code",
   "execution_count": null,
   "metadata": {
    "colab": {
     "base_uri": "https://localhost:8080/"
    },
    "id": "hW5rUr2tXzUW",
    "outputId": "5ad04ad3-9e5a-4609-8e0d-fe19f02c32d0",
    "tags": []
   },
   "outputs": [],
   "source": [
    "get_ipython().kernel.do_shutdown(restart=True)"
   ]
  },
  {
   "cell_type": "code",
   "execution_count": null,
   "metadata": {
    "id": "NjvPsTlGZrW7",
    "tags": []
   },
   "outputs": [],
   "source": [
    "%load_ext cudf.pandas"
   ]
  },
  {
   "cell_type": "code",
   "execution_count": null,
   "metadata": {
    "colab": {
     "base_uri": "https://localhost:8080/",
     "height": 458
    },
    "id": "XL_u4l5gZJte",
    "outputId": "72daadb7-8f34-4a29-ce76-d8c7a8917eb8",
    "tags": []
   },
   "outputs": [],
   "source": [
    "%%time\n",
    "\n",
    "import pandas as pd\n",
    "\n",
    "df = pd.read_parquet(\n",
    "    \"nyc_parking_violations_2022.parquet\",\n",
    "    columns=[\"Registration State\", \"Violation Description\", \"Vehicle Body Type\", \"Issue Date\", \"Summons Number\"]\n",
    ")\n",
    "\n",
    "(df[[\"Registration State\", \"Violation Description\"]]\n",
    " .value_counts()\n",
    " .groupby(\"Registration State\")\n",
    " .head(1)\n",
    " .sort_index()\n",
    " .reset_index()\n",
    ")"
   ]
  },
  {
   "cell_type": "code",
   "execution_count": null,
   "metadata": {
    "colab": {
     "base_uri": "https://localhost:8080/",
     "height": 490
    },
    "id": "BLWa8ed6d-pD",
    "outputId": "a717d797-b6d4-4baf-dce3-c281e52d1576",
    "tags": []
   },
   "outputs": [],
   "source": [
    "%%time\n",
    "\n",
    "(df\n",
    " .groupby([\"Vehicle Body Type\"])\n",
    " .agg({\"Summons Number\": \"count\"})\n",
    " .rename(columns={\"Summons Number\": \"Count\"})\n",
    " .sort_values([\"Count\"], ascending=False)\n",
    ")"
   ]
  },
  {
   "cell_type": "code",
   "execution_count": null,
   "metadata": {
    "colab": {
     "base_uri": "https://localhost:8080/"
    },
    "id": "X6ASy4mPd_-c",
    "outputId": "d45b6616-a0f8-48ba-e86a-6ad087c4af4c",
    "tags": []
   },
   "outputs": [],
   "source": [
    "%%time\n",
    "\n",
    "weekday_names = {\n",
    "    0: \"Monday\",\n",
    "    1: \"Tuesday\",\n",
    "    2: \"Wednesday\",\n",
    "    3: \"Thursday\",\n",
    "    4: \"Friday\",\n",
    "    5: \"Saturday\",\n",
    "    6: \"Sunday\",\n",
    "}\n",
    "\n",
    "df[\"Issue Date\"] = df[\"Issue Date\"].astype(\"datetime64[ms]\")\n",
    "df[\"issue_weekday\"] = df[\"Issue Date\"].dt.weekday.map(weekday_names)\n",
    "\n",
    "df.groupby([\"issue_weekday\"])[\"Summons Number\"].count().sort_values()"
   ]
  },
  {
   "cell_type": "markdown",
   "metadata": {
    "id": "FMUrf6iMeBdM"
   },
   "source": [
    "Much faster! Operations that took 5-20 seconds can now potentially finish in just milliseconds without changing any code."
   ]
  },
  {
   "cell_type": "markdown",
   "metadata": {
    "id": "00m6gUxqeGzk"
   },
   "source": [
    "<a name='s1-5'></a>\n",
    "## Understanding Performance ##\n",
    "cuDF's pandas accelerator mode provides profiling utilities to help you better understand performance. With these tools, you can identify which parts of your code ran on the GPU and which parts ran on the CPU. They're accessible in the `cudf.pandas` namespace since the `cudf.pandas` extension was loaded above with `load_ext cudf.pandas`."
   ]
  },
  {
   "cell_type": "markdown",
   "metadata": {},
   "source": [
    "<a name='s1-5.1'></a>\n",
    "### Profiling Functionality ###\n",
    "We can generate a per-function profile:"
   ]
  },
  {
   "cell_type": "code",
   "execution_count": null,
   "metadata": {
    "colab": {
     "base_uri": "https://localhost:8080/",
     "height": 334
    },
    "id": "RFm22OWbeHF2",
    "outputId": "eed4240d-01e1-4007-aced-28c29fe172a5"
   },
   "outputs": [],
   "source": [
    "%%cudf.pandas.profile\n",
    "\n",
    "small_df = pd.DataFrame({'a': [0, 1, 2], 'b': [\"x\", \"y\", \"z\"]})\n",
    "small_df = pd.concat([small_df, small_df])\n",
    "\n",
    "axis = 0\n",
    "for i in range(0, 2):\n",
    "    small_df.min(axis=axis, numeric_only=True)\n",
    "    axis = 1\n",
    "\n",
    "counts = small_df.groupby(\"a\").b.count()"
   ]
  },
  {
   "cell_type": "code",
   "execution_count": null,
   "metadata": {
    "colab": {
     "base_uri": "https://localhost:8080/",
     "height": 448
    },
    "id": "Syb-_vZweN2H",
    "outputId": "96e1ea1c-f3d7-4792-abcb-9e90c1dcdd1c"
   },
   "outputs": [],
   "source": [
    "%%cudf.pandas.line_profile\n",
    "\n",
    "small_df = pd.DataFrame({'a': [0, 1, 2], 'b': [\"x\", \"y\", \"z\"]})\n",
    "small_df = pd.concat([small_df, small_df])\n",
    "\n",
    "axis = 0\n",
    "for i in range(0, 2):\n",
    "    small_df.min(axis=axis, numeric_only=True)\n",
    "    axis = 1\n",
    "\n",
    "counts = small_df.groupby(\"a\").b.count()"
   ]
  },
  {
   "cell_type": "markdown",
   "metadata": {
    "id": "VCZ6BxwBpfjL"
   },
   "source": [
    "<a name='s1-5.2'></a>\n",
    "### Behind the scenes: What's going on here? ###\n",
    "When you load cuDF's pandas accelerator mode, pandas types like `Series` and `DataFrame` are replaced by proxy objects that dispatch operations to cuDF when possible. We can verify that `cudf.pandas` is active by looking at our `pd` variable:"
   ]
  },
  {
   "cell_type": "code",
   "execution_count": null,
   "metadata": {
    "colab": {
     "base_uri": "https://localhost:8080/"
    },
    "id": "jogk5UrgeTkS",
    "outputId": "c4b9b4cd-894b-4379-fde2-fee17138bd36"
   },
   "outputs": [],
   "source": [
    "pd"
   ]
  },
  {
   "cell_type": "markdown",
   "metadata": {
    "id": "vxh70rpDph3I"
   },
   "source": [
    "As a result, all pandas functions, methods, and created objects are proxies:"
   ]
  },
  {
   "cell_type": "code",
   "execution_count": null,
   "metadata": {
    "colab": {
     "base_uri": "https://localhost:8080/"
    },
    "id": "RYTCGl7spgjs",
    "outputId": "ef9a2113-1ea4-4104-c28e-5c97286fb72a"
   },
   "outputs": [],
   "source": [
    "type(pd.read_csv)"
   ]
  },
  {
   "cell_type": "markdown",
   "metadata": {
    "id": "9-NvKu7XplmO"
   },
   "source": [
    "Operations supported by cuDF will be **very** fast:"
   ]
  },
  {
   "cell_type": "code",
   "execution_count": null,
   "metadata": {
    "colab": {
     "base_uri": "https://localhost:8080/"
    },
    "id": "MFvLJo4upnUG",
    "outputId": "3cc21f0c-798f-4589-c8e3-23e52fd052ae"
   },
   "outputs": [],
   "source": [
    "%%time\n",
    "df.count(axis=0)"
   ]
  },
  {
   "cell_type": "markdown",
   "metadata": {
    "id": "Np6VP-wSpomO"
   },
   "source": [
    "Operations not supported by cuDF will be slower, as they fall back to using pandas (copying data between the CPU and GPU under the hood as needed). For example, cuDF does not currently support the `axis=` parameter to the `count` method. So, this operation will run on the CPU and be noticeably slower than the previous one."
   ]
  },
  {
   "cell_type": "code",
   "execution_count": null,
   "metadata": {
    "colab": {
     "base_uri": "https://localhost:8080/"
    },
    "id": "mThydJIYpuha",
    "outputId": "77a843f4-0ead-4b61-a2b3-23952a2dd35d"
   },
   "outputs": [],
   "source": [
    "%%time\n",
    "df.count(axis=1) # This will use pandas, because cuDF doesn't support axis=1 for the .count() method"
   ]
  },
  {
   "cell_type": "markdown",
   "metadata": {
    "id": "tbDVvkP2pyra"
   },
   "source": [
    "But the story doesn't end here. We often need to mix our own code with third-party libraries that other people have written. Many of these libraries accept pandas objects as inputs."
   ]
  },
  {
   "cell_type": "markdown",
   "metadata": {
    "id": "3yK3a-mIp0vr"
   },
   "source": [
    "<a name='s1-6'></a>\n",
    "## Using third-party libraries with cuDF's pandas accelerator mode ##\n",
    "You can pass pandas objects to third-party libraries when using `cudf.pandas`, just like you would when using regular pandas. Below, we show an example of using [plotly-express](https://plotly.com/python/plotly-express/) to visualize the data we've been processing:"
   ]
  },
  {
   "cell_type": "markdown",
   "metadata": {
    "id": "H0QwPQcAp2RV"
   },
   "source": [
    "<a name='s1-6.1'></a>\n",
    "### Visualizing which states have more pickup trucks relative to other vehicles? ###"
   ]
  },
  {
   "cell_type": "code",
   "execution_count": null,
   "metadata": {
    "colab": {
     "base_uri": "https://localhost:8080/",
     "height": 542
    },
    "id": "Ecs213eEqCd9",
    "outputId": "5c798902-301c-4aaf-dcf2-18ffd863befd"
   },
   "outputs": [],
   "source": [
    "import plotly.express as px\n",
    "\n",
    "df = df.rename(columns={\n",
    "    \"Registration State\": \"reg_state\",\n",
    "    \"Vehicle Body Type\": \"vehicle_type\",\n",
    "})\n",
    "\n",
    "# vehicle counts per state:\n",
    "counts = df.groupby(\"reg_state\").size().sort_index()\n",
    "# vehicles with type \"PICK\" (Pickup Truck)\n",
    "pickup_counts = df.where(df[\"vehicle_type\"] == \"PICK\").groupby(\"reg_state\").size()\n",
    "# percentage of pickup trucks by state:\n",
    "pickup_frac = ((pickup_counts / counts) * 100).rename(\"% Pickup Trucks\")\n",
    "del pickup_frac[\"MB\"]  # (Manitoba is a huge outlier!)\n",
    "\n",
    "# plot the results:\n",
    "pickup_frac = pickup_frac.reset_index()\n",
    "px.choropleth(pickup_frac, locations=\"reg_state\", color=\"% Pickup Trucks\", locationmode=\"USA-states\", scope=\"usa\")"
   ]
  },
  {
   "cell_type": "markdown",
   "metadata": {
    "id": "9bgMrWs5qDG_"
   },
   "source": [
    "<a name='s1-6.2'></a>\n",
    "### Beyond just passing data: **Accelerating** third-party code ###\n",
    "Being able to pass these proxy objects to libraries like Plotly is great, but the benefits don't end there. When you enable cuDF's pandas accelerator mode, pandas operations running **inside the third-party library's functions** will also benefit from GPU acceleration where possible! Below, you can see an image illustrating how `cudf.pandas` can accelerate the pandas backend in Ibis, a library that provides a unified DataFrame API to various backends. We ran this example on a system with an NVIDIA H100 GPU and an Intel Xeon Platinum 8480CL CPU. By loading the `cudf.pandas` extension, pandas operations within Ibis can use the GPU with zero code change. It just works.\n",
    "\n",
    "<p><img src='images/cuDF.png' width=720></p>"
   ]
  },
  {
   "cell_type": "markdown",
   "metadata": {
    "id": "pyVNtGUhtFs5"
   },
   "source": [
    "<a name='s1-7'></a>\n",
    "## Conclusion ##\n",
    "With cuDF's pandas accelerator mode, you can keep using pandas as your primary dataframe library. When things start to get a little slow, just load the cuDF extension and run your existing code on a GPU! To learn more about cuDF's pandas accelerator mode we encourage you to visit [rapids.ai/cudf-pandas](https://rapids.ai/cudf-pandas)."
   ]
  },
  {
   "cell_type": "markdown",
   "metadata": {},
   "source": [
    "**Well Done!** Let's move to the [next notebook](02_cuML.ipynb). "
   ]
  },
  {
   "cell_type": "markdown",
   "metadata": {},
   "source": [
    "<img src='images/DLI_Header.png'>"
   ]
  }
 ],
 "metadata": {
  "accelerator": "GPU",
  "colab": {
   "collapsed_sections": [
    "hAvNFbYKWwti",
    "VmkFv9ZUW37g",
    "H7_9EmGyXUJd",
    "VjFfQLZHXehM",
    "JKBQcT64XlMr",
    "VgAWS0yXXtGj",
    "00m6gUxqeGzk",
    "H0QwPQcAp2RV"
   ],
   "gpuType": "T4",
   "provenance": []
  },
  "kernelspec": {
   "display_name": "Python 3 (ipykernel)",
   "language": "python",
   "name": "python3"
  },
  "language_info": {
   "codemirror_mode": {
    "name": "ipython",
    "version": 3
   },
   "file_extension": ".py",
   "mimetype": "text/x-python",
   "name": "python",
   "nbconvert_exporter": "python",
   "pygments_lexer": "ipython3",
   "version": "3.11.9"
  }
 },
 "nbformat": 4,
 "nbformat_minor": 4
}
