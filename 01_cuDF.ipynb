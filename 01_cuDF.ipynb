{
 "cells": [
  {
   "cell_type": "markdown",
   "metadata": {},
   "source": [
    "<img src='images/DLI_Header.png'>"
   ]
  },
  {
   "cell_type": "markdown",
   "metadata": {},
   "source": [
    "# Accelerate Data Science Workflows with Zero Code Changes #"
   ]
  },
  {
   "cell_type": "markdown",
   "metadata": {},
   "source": [
    "## 01 - 10 Minutes to RAPIDS cuDF's pandas accelerator mode (cudf.pandas) ##\n",
    "cuDF is a Python GPU DataFrame library (built on the Apache Arrow columnar memory format) for loading, joining, aggregating, filtering, and otherwise manipulating tabular data using a DataFrame style API in the style of pandas. cuDF now provides a pandas accelerator mode (`cudf.pandas`), allowing you to bring accelerated computing to your pandas workflows without requiring any code change. \n",
    "\n",
    "**Table of Contents**\n",
    "<br>\n",
    "This notebook is a short introduction to `cudf.pandas`. This notebook covers the below sections: \n",
    "1. [Verify your setup](#s1-1)\n",
    "2. [Download the data](#s1-2)\n",
    "    * [Data License and Terms](#s1-2.1)\n",
    "3. [Analysis using Standard Pandas](#s1-3)\n",
    "    * [Which parking violation is most commonly committed by vehicles from various U.S states](#s1-3.1)\n",
    "    * [Which vehicle body types are most frequently involved in parking violations](#s1-3.2)\n",
    "    * [How do parking violations vary across days of the week](#s1-3.3)\n",
    "    * [Let's time it](#s1-3.4)\n",
    "4. [Using cuDF's pandas accelerator mode (cudf.pandas)](#s1-4)\n",
    "5. [Understanding Performance](#s1-5)\n",
    "    * [Profiling Functionality](#s1-5.1)\n",
    "    * [Behind the scenes: What's going on here](#s1-5.2)\n",
    "6. [Using third-party libraries with cuDF's pandas accelerator mode](#s1-6)\n",
    "    * [Visualizing which states have more pickup trucks relative to other vehicles](#s1-6.1)\n",
    "    * [Beyond just passing data: Accelerating third-party code](#s1-6.2)\n",
    "7. [Conclusion](#s1-7)"
   ]
  },
  {
   "cell_type": "markdown",
   "metadata": {
    "id": "SH_h6ci1Sx0u"
   },
   "source": [
    "<a name='s1-1'></a>\n",
    "## ⚠️ Verify your setup ## \n",
    "First, we'll verify that you are running with an NVIDIA GPU and that cuDF is available."
   ]
  },
  {
   "cell_type": "code",
   "execution_count": 1,
   "metadata": {
    "colab": {
     "base_uri": "https://localhost:8080/"
    },
    "id": "Y2vPCtXcCvUR",
    "outputId": "baface74-0ec3-4aac-e31e-5bddc33f3675",
    "tags": []
   },
   "outputs": [
    {
     "name": "stdout",
     "output_type": "stream",
     "text": [
      "Sat Aug  2 13:58:30 2025       \n",
      "+-----------------------------------------------------------------------------------------+\n",
      "| NVIDIA-SMI 575.57.08              Driver Version: 575.57.08      CUDA Version: 12.9     |\n",
      "|-----------------------------------------+------------------------+----------------------+\n",
      "| GPU  Name                 Persistence-M | Bus-Id          Disp.A | Volatile Uncorr. ECC |\n",
      "| Fan  Temp   Perf          Pwr:Usage/Cap |           Memory-Usage | GPU-Util  Compute M. |\n",
      "|                                         |                        |               MIG M. |\n",
      "|=========================================+========================+======================|\n",
      "|   0  NVIDIA RTX A6000               On  |   00000000:03:00.0 Off |                  Off |\n",
      "| 30%   24C    P8             16W /  300W |      16MiB /  49140MiB |      0%      Default |\n",
      "|                                         |                        |                  N/A |\n",
      "+-----------------------------------------+------------------------+----------------------+\n",
      "                                                                                         \n",
      "+-----------------------------------------------------------------------------------------+\n",
      "| Processes:                                                                              |\n",
      "|  GPU   GI   CI              PID   Type   Process name                        GPU Memory |\n",
      "|        ID   ID                                                               Usage      |\n",
      "|=========================================================================================|\n",
      "|    0   N/A  N/A            2732      G   /usr/lib/xorg/Xorg                        4MiB |\n",
      "+-----------------------------------------------------------------------------------------+\n"
     ]
    }
   ],
   "source": [
    "!nvidia-smi  # this should display information about available GPUs"
   ]
  },
  {
   "cell_type": "code",
   "execution_count": 2,
   "metadata": {
    "id": "zhPt4Xj8THgo",
    "tags": []
   },
   "outputs": [],
   "source": [
    "import cudf  # this should work without any errors"
   ]
  },
  {
   "cell_type": "markdown",
   "metadata": {
    "id": "4iryQthjTMXQ"
   },
   "source": [
    "We'll also install `plotly-express` for visualizing data."
   ]
  },
  {
   "cell_type": "code",
   "execution_count": 3,
   "metadata": {
    "colab": {
     "base_uri": "https://localhost:8080/"
    },
    "id": "kzBF7A8qTM27",
    "outputId": "0b366672-ce78-4ea9-c456-c469df616beb",
    "tags": []
   },
   "outputs": [
    {
     "name": "stdout",
     "output_type": "stream",
     "text": [
      "Collecting plotly-express\n",
      "  Downloading plotly_express-0.4.1-py2.py3-none-any.whl.metadata (1.7 kB)\n",
      "Requirement already satisfied: pandas>=0.20.0 in /home/hendra/miniconda3/envs/rapids-25.06/lib/python3.13/site-packages (from plotly-express) (2.2.3)\n",
      "Collecting plotly>=4.1.0 (from plotly-express)\n",
      "  Downloading plotly-6.2.0-py3-none-any.whl.metadata (8.5 kB)\n",
      "Collecting statsmodels>=0.9.0 (from plotly-express)\n",
      "  Downloading statsmodels-0.14.5-cp313-cp313-manylinux2014_x86_64.manylinux_2_17_x86_64.manylinux_2_28_x86_64.whl.metadata (9.5 kB)\n",
      "Requirement already satisfied: scipy>=0.18 in /home/hendra/miniconda3/envs/rapids-25.06/lib/python3.13/site-packages (from plotly-express) (1.16.0)\n",
      "Collecting patsy>=0.5 (from plotly-express)\n",
      "  Using cached patsy-1.0.1-py2.py3-none-any.whl.metadata (3.3 kB)\n",
      "Requirement already satisfied: numpy>=1.11 in /home/hendra/miniconda3/envs/rapids-25.06/lib/python3.13/site-packages (from plotly-express) (2.2.6)\n",
      "Requirement already satisfied: python-dateutil>=2.8.2 in /home/hendra/miniconda3/envs/rapids-25.06/lib/python3.13/site-packages (from pandas>=0.20.0->plotly-express) (2.9.0.post0)\n",
      "Requirement already satisfied: pytz>=2020.1 in /home/hendra/miniconda3/envs/rapids-25.06/lib/python3.13/site-packages (from pandas>=0.20.0->plotly-express) (2025.2)\n",
      "Requirement already satisfied: tzdata>=2022.7 in /home/hendra/miniconda3/envs/rapids-25.06/lib/python3.13/site-packages (from pandas>=0.20.0->plotly-express) (2025.2)\n",
      "Requirement already satisfied: narwhals>=1.15.1 in /home/hendra/miniconda3/envs/rapids-25.06/lib/python3.13/site-packages (from plotly>=4.1.0->plotly-express) (2.0.1)\n",
      "Requirement already satisfied: packaging in /home/hendra/miniconda3/envs/rapids-25.06/lib/python3.13/site-packages (from plotly>=4.1.0->plotly-express) (25.0)\n",
      "Requirement already satisfied: six>=1.5 in /home/hendra/miniconda3/envs/rapids-25.06/lib/python3.13/site-packages (from python-dateutil>=2.8.2->pandas>=0.20.0->plotly-express) (1.17.0)\n",
      "Downloading plotly_express-0.4.1-py2.py3-none-any.whl (2.9 kB)\n",
      "Using cached patsy-1.0.1-py2.py3-none-any.whl (232 kB)\n",
      "Downloading plotly-6.2.0-py3-none-any.whl (9.6 MB)\n",
      "\u001b[2K   \u001b[38;2;114;156;31m━━━━━━━━━━━━━━━━━━━━━━━━━━━━━━━━━━━━━━━━\u001b[0m \u001b[32m9.6/9.6 MB\u001b[0m \u001b[31m3.6 MB/s\u001b[0m  \u001b[33m0:00:02\u001b[0mm \u001b[31m3.5 MB/s\u001b[0m eta \u001b[36m0:00:01\u001b[0m\n",
      "\u001b[?25hDownloading statsmodels-0.14.5-cp313-cp313-manylinux2014_x86_64.manylinux_2_17_x86_64.manylinux_2_28_x86_64.whl (10.5 MB)\n",
      "\u001b[2K   \u001b[38;2;114;156;31m━━━━━━━━━━━━━━━━━━━━━━━━━━━━━━━━━━━━━━━━\u001b[0m \u001b[32m10.5/10.5 MB\u001b[0m \u001b[31m6.8 MB/s\u001b[0m  \u001b[33m0:00:01\u001b[0m.8 MB/s\u001b[0m eta \u001b[36m0:00:01\u001b[0m\n",
      "\u001b[?25hInstalling collected packages: plotly, patsy, statsmodels, plotly-express\n",
      "\u001b[2K   \u001b[38;2;114;156;31m━━━━━━━━━━━━━━━━━━━━━━━━━━━━━━━━━━━━━━━━\u001b[0m \u001b[32m4/4\u001b[0m [plotly-express] \u001b[32m2/4\u001b[0m [statsmodels]\n",
      "\u001b[1A\u001b[2KSuccessfully installed patsy-1.0.1 plotly-6.2.0 plotly-express-0.4.1 statsmodels-0.14.5\n"
     ]
    }
   ],
   "source": [
    "!pip install plotly-express"
   ]
  },
  {
   "cell_type": "markdown",
   "metadata": {
    "id": "4zGUeWvcTbDs"
   },
   "source": [
    "<a name='s1-2'></a>\n",
    "## Download the data ##\n",
    "The data we'll be working with is the [Parking Violations Issued - Fiscal Year 2022](https://data.cityofnewyork.us/City-Government/Parking-Violations-Issued-Fiscal-Year-2022/7mxj-7a6y) dataset from NYC Open Data. We're downloading a copy of this dataset from an s3 bucket hosted by NVIDIA to provide faster download speeds. We'll start by downloading the data. This should take about 30 seconds."
   ]
  },
  {
   "cell_type": "markdown",
   "metadata": {},
   "source": [
    "<a name='s1-2.1'></a>\n",
    "### Data License and Terms ###\n",
    "As this dataset originates from the NYC Open Data Portal, it's governed by their license and terms of use.\n",
    "\n",
    "**Are there restrictions on how I can use Open Data?**\n",
    "> Open Data belongs to all New Yorkers. There are no restrictions on the use of Open Data. Refer to Terms of Use for more information.\n",
    "\n",
    "**[Terms of Use](https://opendata.cityofnewyork.us/overview/#termsofuse)**\n",
    "> By accessing datasets and feeds available through NYC Open Data, the user agrees to all of the Terms of Use of NYC.gov as well as the Privacy Policy for NYC.gov. The user also agrees to any additional terms of use defined by the agencies, bureaus, and offices providing data. Public data sets made available on NYC Open Data are provided for informational purposes. The City does not warranty the completeness, accuracy, content, or fitness for any particular purpose or use of any public data set made available on NYC Open Data, nor are any such warranties to be implied or inferred with respect to the public data sets furnished therein.\n",
    "\n",
    "> The City is not liable for any deficiencies in the completeness, accuracy, content, or fitness for any particular purpose or use of any public data set, or application utilizing such data set, provided by any third party.\n",
    "\n",
    "> Submitting City Agencies are the authoritative source of data available on NYC Open Data. These entities are responsible for data quality and retain version control of data sets and feeds accessed on the Site. Data may be updated, corrected, or refreshed at any time."
   ]
  },
  {
   "cell_type": "code",
   "execution_count": 1,
   "metadata": {
    "colab": {
     "base_uri": "https://localhost:8080/"
    },
    "id": "5EoQqNwsTqeP",
    "outputId": "a0e9bbb5-e88a-496a-c600-6429a27cdec2",
    "tags": []
   },
   "outputs": [
    {
     "name": "stdout",
     "output_type": "stream",
     "text": [
      "--2025-08-03 14:35:59--  https://data.rapids.ai/datasets/nyc_parking/nyc_parking_violations_2022.parquet\n",
      "Resolving data.rapids.ai (data.rapids.ai)... 2600:9000:243a:5c00:1a:8fa4:1000:93a1, 2600:9000:243a:6e00:1a:8fa4:1000:93a1, 2600:9000:243a:4000:1a:8fa4:1000:93a1, ...\n",
      "Connecting to data.rapids.ai (data.rapids.ai)|2600:9000:243a:5c00:1a:8fa4:1000:93a1|:443... connected.\n",
      "HTTP request sent, awaiting response... 200 OK\n",
      "Length: 474211285 (452M) [binary/octet-stream]\n",
      "Saving to: ‘nyc_parking_violations_2022.parquet’\n",
      "\n",
      "nyc_parking_violati 100%[===================>] 452,24M  15,5MB/s    in 31s     \n",
      "\n",
      "2025-08-03 14:36:31 (14,6 MB/s) - ‘nyc_parking_violations_2022.parquet’ saved [474211285/474211285]\n",
      "\n"
     ]
    }
   ],
   "source": [
    "!wget https://data.rapids.ai/datasets/nyc_parking/nyc_parking_violations_2022.parquet"
   ]
  },
  {
   "cell_type": "markdown",
   "metadata": {
    "id": "hAvNFbYKWwti"
   },
   "source": [
    "<a name='s1-3'></a>\n",
    "## Analysis using Standard pandas ##\n",
    "First, let's use pandas to read in some columns of the dataset:"
   ]
  },
  {
   "cell_type": "code",
   "execution_count": 3,
   "metadata": {
    "id": "SLRleX9xWxqX",
    "tags": []
   },
   "outputs": [],
   "source": [
    "import pandas as pd"
   ]
  },
  {
   "cell_type": "code",
   "execution_count": 4,
   "metadata": {
    "colab": {
     "base_uri": "https://localhost:8080/",
     "height": 363
    },
    "id": "OLatEi7rW0la",
    "outputId": "22cfa4c5-58ee-4514-ecb1-f984f241a465",
    "tags": []
   },
   "outputs": [
    {
     "data": {
      "text/html": [
       "<div>\n",
       "<style scoped>\n",
       "    .dataframe tbody tr th:only-of-type {\n",
       "        vertical-align: middle;\n",
       "    }\n",
       "\n",
       "    .dataframe tbody tr th {\n",
       "        vertical-align: top;\n",
       "    }\n",
       "\n",
       "    .dataframe thead th {\n",
       "        text-align: right;\n",
       "    }\n",
       "</style>\n",
       "<table border=\"1\" class=\"dataframe\">\n",
       "  <thead>\n",
       "    <tr style=\"text-align: right;\">\n",
       "      <th></th>\n",
       "      <th>Registration State</th>\n",
       "      <th>Violation Description</th>\n",
       "      <th>Vehicle Body Type</th>\n",
       "      <th>Issue Date</th>\n",
       "      <th>Summons Number</th>\n",
       "    </tr>\n",
       "  </thead>\n",
       "  <tbody>\n",
       "    <tr>\n",
       "      <th>142424</th>\n",
       "      <td>NY</td>\n",
       "      <td>PHTO SCHOOL ZN SPEED VIOLATION</td>\n",
       "      <td>VAN</td>\n",
       "      <td>07/12/2021</td>\n",
       "      <td>4739610164</td>\n",
       "    </tr>\n",
       "    <tr>\n",
       "      <th>14423357</th>\n",
       "      <td>NY</td>\n",
       "      <td>&lt;NA&gt;</td>\n",
       "      <td>SUBN</td>\n",
       "      <td>06/12/2022</td>\n",
       "      <td>1486002936</td>\n",
       "    </tr>\n",
       "    <tr>\n",
       "      <th>5058849</th>\n",
       "      <td>NY</td>\n",
       "      <td>37-Expired Parking Meter</td>\n",
       "      <td>VAN</td>\n",
       "      <td>10/07/2021</td>\n",
       "      <td>8919231412</td>\n",
       "    </tr>\n",
       "    <tr>\n",
       "      <th>14591806</th>\n",
       "      <td>NY</td>\n",
       "      <td>PHTO SCHOOL ZN SPEED VIOLATION</td>\n",
       "      <td>SUBN</td>\n",
       "      <td>06/06/2022</td>\n",
       "      <td>4781693696</td>\n",
       "    </tr>\n",
       "    <tr>\n",
       "      <th>2669003</th>\n",
       "      <td>NY</td>\n",
       "      <td>21-No Parking (street clean)</td>\n",
       "      <td>4DSD</td>\n",
       "      <td>08/19/2021</td>\n",
       "      <td>8961427222</td>\n",
       "    </tr>\n",
       "    <tr>\n",
       "      <th>14692698</th>\n",
       "      <td>NY</td>\n",
       "      <td>PHTO SCHOOL ZN SPEED VIOLATION</td>\n",
       "      <td>4DSD</td>\n",
       "      <td>06/15/2022</td>\n",
       "      <td>4783688199</td>\n",
       "    </tr>\n",
       "    <tr>\n",
       "      <th>13826577</th>\n",
       "      <td>NY</td>\n",
       "      <td>20-No Parking (Com Plate)</td>\n",
       "      <td>VAN</td>\n",
       "      <td>05/03/2022</td>\n",
       "      <td>8897924669</td>\n",
       "    </tr>\n",
       "    <tr>\n",
       "      <th>4094053</th>\n",
       "      <td>NY</td>\n",
       "      <td>PHTO SCHOOL ZN SPEED VIOLATION</td>\n",
       "      <td>SUBN</td>\n",
       "      <td>10/07/2021</td>\n",
       "      <td>4751605331</td>\n",
       "    </tr>\n",
       "    <tr>\n",
       "      <th>12824694</th>\n",
       "      <td>NY</td>\n",
       "      <td>PHTO SCHOOL ZN SPEED VIOLATION</td>\n",
       "      <td>4DSD</td>\n",
       "      <td>05/16/2022</td>\n",
       "      <td>4779826585</td>\n",
       "    </tr>\n",
       "    <tr>\n",
       "      <th>6088506</th>\n",
       "      <td>NY</td>\n",
       "      <td>FAILURE TO STOP AT RED LIGHT</td>\n",
       "      <td>SUBN</td>\n",
       "      <td>10/19/2021</td>\n",
       "      <td>5117754414</td>\n",
       "    </tr>\n",
       "  </tbody>\n",
       "</table>\n",
       "</div>"
      ],
      "text/plain": [
       "         Registration State           Violation Description Vehicle Body Type  \\\n",
       "142424                   NY  PHTO SCHOOL ZN SPEED VIOLATION               VAN   \n",
       "14423357                 NY                            <NA>              SUBN   \n",
       "5058849                  NY        37-Expired Parking Meter               VAN   \n",
       "14591806                 NY  PHTO SCHOOL ZN SPEED VIOLATION              SUBN   \n",
       "2669003                  NY    21-No Parking (street clean)              4DSD   \n",
       "14692698                 NY  PHTO SCHOOL ZN SPEED VIOLATION              4DSD   \n",
       "13826577                 NY       20-No Parking (Com Plate)               VAN   \n",
       "4094053                  NY  PHTO SCHOOL ZN SPEED VIOLATION              SUBN   \n",
       "12824694                 NY  PHTO SCHOOL ZN SPEED VIOLATION              4DSD   \n",
       "6088506                  NY    FAILURE TO STOP AT RED LIGHT              SUBN   \n",
       "\n",
       "          Issue Date  Summons Number  \n",
       "142424    07/12/2021      4739610164  \n",
       "14423357  06/12/2022      1486002936  \n",
       "5058849   10/07/2021      8919231412  \n",
       "14591806  06/06/2022      4781693696  \n",
       "2669003   08/19/2021      8961427222  \n",
       "14692698  06/15/2022      4783688199  \n",
       "13826577  05/03/2022      8897924669  \n",
       "4094053   10/07/2021      4751605331  \n",
       "12824694  05/16/2022      4779826585  \n",
       "6088506   10/19/2021      5117754414  "
      ]
     },
     "execution_count": 4,
     "metadata": {},
     "output_type": "execute_result"
    }
   ],
   "source": [
    "# read 5 columns data:\n",
    "df = pd.read_parquet(\n",
    "    \"nyc_parking_violations_2022.parquet\",\n",
    "    columns=[\"Registration State\", \"Violation Description\", \"Vehicle Body Type\", \"Issue Date\", \"Summons Number\"]\n",
    ")\n",
    "\n",
    "# view a random sample of 10 rows:\n",
    "df.sample(10)"
   ]
  },
  {
   "cell_type": "markdown",
   "metadata": {
    "id": "m7qXNJU9W53D"
   },
   "source": [
    "Next, we'll try to answer a few questions using the data."
   ]
  },
  {
   "cell_type": "markdown",
   "metadata": {
    "id": "VmkFv9ZUW37g"
   },
   "source": [
    "<a name='s1-3.1'></a>\n",
    "### Which parking violation is most commonly committed by vehicles from various U.S states? ###\n",
    "Each record in our dataset contains the state of registration of the offending vehicle, and the type of parking offence. Let's say we want to get the most common type of offence for vehicles registered in different states. We can do this in pandas using a combination of [value_counts](https://pandas.pydata.org/docs/reference/api/pandas.Series.value_counts.html) and [GroupBy.head](https://pandas.pydata.org/docs/reference/api/pandas.core.groupby.DataFrameGroupBy.head.html):"
   ]
  },
  {
   "cell_type": "markdown",
   "metadata": {},
   "source": [
    "#### BEGIN: MWE"
   ]
  },
  {
   "cell_type": "code",
   "execution_count": 5,
   "metadata": {},
   "outputs": [
    {
     "data": {
      "text/html": [
       "<div>\n",
       "<style scoped>\n",
       "    .dataframe tbody tr th:only-of-type {\n",
       "        vertical-align: middle;\n",
       "    }\n",
       "\n",
       "    .dataframe tbody tr th {\n",
       "        vertical-align: top;\n",
       "    }\n",
       "\n",
       "    .dataframe thead th {\n",
       "        text-align: right;\n",
       "    }\n",
       "</style>\n",
       "<table border=\"1\" class=\"dataframe\">\n",
       "  <thead>\n",
       "    <tr style=\"text-align: right;\">\n",
       "      <th></th>\n",
       "      <th>Registration State</th>\n",
       "      <th>Violation Description</th>\n",
       "      <th>Vehicle Body Type</th>\n",
       "      <th>Issue Date</th>\n",
       "      <th>Summons Number</th>\n",
       "    </tr>\n",
       "  </thead>\n",
       "  <tbody>\n",
       "    <tr>\n",
       "      <th>0</th>\n",
       "      <td>NY</td>\n",
       "      <td>&lt;NA&gt;</td>\n",
       "      <td>VAN</td>\n",
       "      <td>06/25/2021</td>\n",
       "      <td>1457617912</td>\n",
       "    </tr>\n",
       "    <tr>\n",
       "      <th>1</th>\n",
       "      <td>NY</td>\n",
       "      <td>&lt;NA&gt;</td>\n",
       "      <td>SUBN</td>\n",
       "      <td>06/25/2021</td>\n",
       "      <td>1457617924</td>\n",
       "    </tr>\n",
       "    <tr>\n",
       "      <th>2</th>\n",
       "      <td>TX</td>\n",
       "      <td>&lt;NA&gt;</td>\n",
       "      <td>SDN</td>\n",
       "      <td>06/17/2021</td>\n",
       "      <td>1457622427</td>\n",
       "    </tr>\n",
       "    <tr>\n",
       "      <th>3</th>\n",
       "      <td>MO</td>\n",
       "      <td>&lt;NA&gt;</td>\n",
       "      <td>SDN</td>\n",
       "      <td>06/16/2021</td>\n",
       "      <td>1457638629</td>\n",
       "    </tr>\n",
       "    <tr>\n",
       "      <th>4</th>\n",
       "      <td>NY</td>\n",
       "      <td>&lt;NA&gt;</td>\n",
       "      <td>TAXI</td>\n",
       "      <td>07/04/2021</td>\n",
       "      <td>1457639580</td>\n",
       "    </tr>\n",
       "  </tbody>\n",
       "</table>\n",
       "</div>"
      ],
      "text/plain": [
       "  Registration State Violation Description Vehicle Body Type  Issue Date  \\\n",
       "0                 NY                  <NA>               VAN  06/25/2021   \n",
       "1                 NY                  <NA>              SUBN  06/25/2021   \n",
       "2                 TX                  <NA>               SDN  06/17/2021   \n",
       "3                 MO                  <NA>               SDN  06/16/2021   \n",
       "4                 NY                  <NA>              TAXI  07/04/2021   \n",
       "\n",
       "   Summons Number  \n",
       "0      1457617912  \n",
       "1      1457617924  \n",
       "2      1457622427  \n",
       "3      1457638629  \n",
       "4      1457639580  "
      ]
     },
     "execution_count": 5,
     "metadata": {},
     "output_type": "execute_result"
    }
   ],
   "source": [
    "df.head()"
   ]
  },
  {
   "cell_type": "code",
   "execution_count": 6,
   "metadata": {},
   "outputs": [
    {
     "data": {
      "text/html": [
       "<div>\n",
       "<style scoped>\n",
       "    .dataframe tbody tr th:only-of-type {\n",
       "        vertical-align: middle;\n",
       "    }\n",
       "\n",
       "    .dataframe tbody tr th {\n",
       "        vertical-align: top;\n",
       "    }\n",
       "\n",
       "    .dataframe thead th {\n",
       "        text-align: right;\n",
       "    }\n",
       "</style>\n",
       "<table border=\"1\" class=\"dataframe\">\n",
       "  <thead>\n",
       "    <tr style=\"text-align: right;\">\n",
       "      <th></th>\n",
       "      <th>Registration State</th>\n",
       "      <th>Violation Description</th>\n",
       "      <th>count</th>\n",
       "    </tr>\n",
       "  </thead>\n",
       "  <tbody>\n",
       "    <tr>\n",
       "      <th>0</th>\n",
       "      <td>99</td>\n",
       "      <td>&lt;NA&gt;</td>\n",
       "      <td>17550</td>\n",
       "    </tr>\n",
       "    <tr>\n",
       "      <th>1</th>\n",
       "      <td>AB</td>\n",
       "      <td>14-No Standing</td>\n",
       "      <td>22</td>\n",
       "    </tr>\n",
       "    <tr>\n",
       "      <th>2</th>\n",
       "      <td>AK</td>\n",
       "      <td>PHTO SCHOOL ZN SPEED VIOLATION</td>\n",
       "      <td>125</td>\n",
       "    </tr>\n",
       "    <tr>\n",
       "      <th>3</th>\n",
       "      <td>AL</td>\n",
       "      <td>PHTO SCHOOL ZN SPEED VIOLATION</td>\n",
       "      <td>3668</td>\n",
       "    </tr>\n",
       "    <tr>\n",
       "      <th>4</th>\n",
       "      <td>AR</td>\n",
       "      <td>PHTO SCHOOL ZN SPEED VIOLATION</td>\n",
       "      <td>537</td>\n",
       "    </tr>\n",
       "    <tr>\n",
       "      <th>...</th>\n",
       "      <td>...</td>\n",
       "      <td>...</td>\n",
       "      <td>...</td>\n",
       "    </tr>\n",
       "    <tr>\n",
       "      <th>62</th>\n",
       "      <td>VT</td>\n",
       "      <td>PHTO SCHOOL ZN SPEED VIOLATION</td>\n",
       "      <td>3024</td>\n",
       "    </tr>\n",
       "    <tr>\n",
       "      <th>63</th>\n",
       "      <td>WA</td>\n",
       "      <td>21-No Parking (street clean)</td>\n",
       "      <td>3732</td>\n",
       "    </tr>\n",
       "    <tr>\n",
       "      <th>64</th>\n",
       "      <td>WI</td>\n",
       "      <td>14-No Standing</td>\n",
       "      <td>1639</td>\n",
       "    </tr>\n",
       "    <tr>\n",
       "      <th>65</th>\n",
       "      <td>WV</td>\n",
       "      <td>PHTO SCHOOL ZN SPEED VIOLATION</td>\n",
       "      <td>1185</td>\n",
       "    </tr>\n",
       "    <tr>\n",
       "      <th>66</th>\n",
       "      <td>WY</td>\n",
       "      <td>21-No Parking (street clean)</td>\n",
       "      <td>138</td>\n",
       "    </tr>\n",
       "  </tbody>\n",
       "</table>\n",
       "<p>67 rows × 3 columns</p>\n",
       "</div>"
      ],
      "text/plain": [
       "   Registration State           Violation Description  count\n",
       "0                  99                            <NA>  17550\n",
       "1                  AB                  14-No Standing     22\n",
       "2                  AK  PHTO SCHOOL ZN SPEED VIOLATION    125\n",
       "3                  AL  PHTO SCHOOL ZN SPEED VIOLATION   3668\n",
       "4                  AR  PHTO SCHOOL ZN SPEED VIOLATION    537\n",
       "..                ...                             ...    ...\n",
       "62                 VT  PHTO SCHOOL ZN SPEED VIOLATION   3024\n",
       "63                 WA    21-No Parking (street clean)   3732\n",
       "64                 WI                  14-No Standing   1639\n",
       "65                 WV  PHTO SCHOOL ZN SPEED VIOLATION   1185\n",
       "66                 WY    21-No Parking (street clean)    138\n",
       "\n",
       "[67 rows x 3 columns]"
      ]
     },
     "execution_count": 6,
     "metadata": {},
     "output_type": "execute_result"
    }
   ],
   "source": [
    "df[[\"Registration State\", \"Violation Description\"]].value_counts().groupby(\"Registration State\").head(1).sort_index().reset_index()"
   ]
  },
  {
   "cell_type": "code",
   "execution_count": 7,
   "metadata": {},
   "outputs": [
    {
     "data": {
      "text/plain": [
       "Registration State  Violation Description         \n",
       "99                  <NA>                              17550\n",
       "AB                  14-No Standing                       22\n",
       "AK                  PHTO SCHOOL ZN SPEED VIOLATION      125\n",
       "AL                  PHTO SCHOOL ZN SPEED VIOLATION     3668\n",
       "AR                  PHTO SCHOOL ZN SPEED VIOLATION      537\n",
       "                                                      ...  \n",
       "VT                  PHTO SCHOOL ZN SPEED VIOLATION     3024\n",
       "WA                  21-No Parking (street clean)       3732\n",
       "WI                  14-No Standing                     1639\n",
       "WV                  PHTO SCHOOL ZN SPEED VIOLATION     1185\n",
       "WY                  21-No Parking (street clean)        138\n",
       "Name: count, Length: 67, dtype: int64"
      ]
     },
     "execution_count": 7,
     "metadata": {},
     "output_type": "execute_result"
    }
   ],
   "source": [
    "df[[\"Registration State\", \"Violation Description\"]].value_counts().groupby(\"Registration State\").head(1).sort_index()"
   ]
  },
  {
   "cell_type": "markdown",
   "metadata": {},
   "source": [
    "#### END: MWE"
   ]
  },
  {
   "cell_type": "code",
   "execution_count": 8,
   "metadata": {
    "colab": {
     "base_uri": "https://localhost:8080/",
     "height": 423
    },
    "id": "bHXq-s_ZXOQN",
    "outputId": "a0ca97bc-0c91-4f89-931b-bb0377e1c1c8",
    "tags": []
   },
   "outputs": [
    {
     "data": {
      "text/html": [
       "<div>\n",
       "<style scoped>\n",
       "    .dataframe tbody tr th:only-of-type {\n",
       "        vertical-align: middle;\n",
       "    }\n",
       "\n",
       "    .dataframe tbody tr th {\n",
       "        vertical-align: top;\n",
       "    }\n",
       "\n",
       "    .dataframe thead th {\n",
       "        text-align: right;\n",
       "    }\n",
       "</style>\n",
       "<table border=\"1\" class=\"dataframe\">\n",
       "  <thead>\n",
       "    <tr style=\"text-align: right;\">\n",
       "      <th></th>\n",
       "      <th>Registration State</th>\n",
       "      <th>Violation Description</th>\n",
       "      <th>count</th>\n",
       "    </tr>\n",
       "  </thead>\n",
       "  <tbody>\n",
       "    <tr>\n",
       "      <th>0</th>\n",
       "      <td>99</td>\n",
       "      <td>&lt;NA&gt;</td>\n",
       "      <td>17550</td>\n",
       "    </tr>\n",
       "    <tr>\n",
       "      <th>1</th>\n",
       "      <td>AB</td>\n",
       "      <td>14-No Standing</td>\n",
       "      <td>22</td>\n",
       "    </tr>\n",
       "    <tr>\n",
       "      <th>2</th>\n",
       "      <td>AK</td>\n",
       "      <td>PHTO SCHOOL ZN SPEED VIOLATION</td>\n",
       "      <td>125</td>\n",
       "    </tr>\n",
       "    <tr>\n",
       "      <th>3</th>\n",
       "      <td>AL</td>\n",
       "      <td>PHTO SCHOOL ZN SPEED VIOLATION</td>\n",
       "      <td>3668</td>\n",
       "    </tr>\n",
       "    <tr>\n",
       "      <th>4</th>\n",
       "      <td>AR</td>\n",
       "      <td>PHTO SCHOOL ZN SPEED VIOLATION</td>\n",
       "      <td>537</td>\n",
       "    </tr>\n",
       "    <tr>\n",
       "      <th>...</th>\n",
       "      <td>...</td>\n",
       "      <td>...</td>\n",
       "      <td>...</td>\n",
       "    </tr>\n",
       "    <tr>\n",
       "      <th>62</th>\n",
       "      <td>VT</td>\n",
       "      <td>PHTO SCHOOL ZN SPEED VIOLATION</td>\n",
       "      <td>3024</td>\n",
       "    </tr>\n",
       "    <tr>\n",
       "      <th>63</th>\n",
       "      <td>WA</td>\n",
       "      <td>21-No Parking (street clean)</td>\n",
       "      <td>3732</td>\n",
       "    </tr>\n",
       "    <tr>\n",
       "      <th>64</th>\n",
       "      <td>WI</td>\n",
       "      <td>14-No Standing</td>\n",
       "      <td>1639</td>\n",
       "    </tr>\n",
       "    <tr>\n",
       "      <th>65</th>\n",
       "      <td>WV</td>\n",
       "      <td>PHTO SCHOOL ZN SPEED VIOLATION</td>\n",
       "      <td>1185</td>\n",
       "    </tr>\n",
       "    <tr>\n",
       "      <th>66</th>\n",
       "      <td>WY</td>\n",
       "      <td>21-No Parking (street clean)</td>\n",
       "      <td>138</td>\n",
       "    </tr>\n",
       "  </tbody>\n",
       "</table>\n",
       "<p>67 rows × 3 columns</p>\n",
       "</div>"
      ],
      "text/plain": [
       "   Registration State           Violation Description  count\n",
       "0                  99                            <NA>  17550\n",
       "1                  AB                  14-No Standing     22\n",
       "2                  AK  PHTO SCHOOL ZN SPEED VIOLATION    125\n",
       "3                  AL  PHTO SCHOOL ZN SPEED VIOLATION   3668\n",
       "4                  AR  PHTO SCHOOL ZN SPEED VIOLATION    537\n",
       "..                ...                             ...    ...\n",
       "62                 VT  PHTO SCHOOL ZN SPEED VIOLATION   3024\n",
       "63                 WA    21-No Parking (street clean)   3732\n",
       "64                 WI                  14-No Standing   1639\n",
       "65                 WV  PHTO SCHOOL ZN SPEED VIOLATION   1185\n",
       "66                 WY    21-No Parking (street clean)    138\n",
       "\n",
       "[67 rows x 3 columns]"
      ]
     },
     "execution_count": 8,
     "metadata": {},
     "output_type": "execute_result"
    }
   ],
   "source": [
    "(df[[\"Registration State\", \"Violation Description\"]]  # get only these two columns\n",
    " .value_counts()  # get the count of offences per state and per type of offence\n",
    " .groupby(\"Registration State\")  # group by state\n",
    " .head(1)  # get the first row in each group (the type of offence with the largest count)\n",
    " .sort_index()  # sort by state name\n",
    " .reset_index()\n",
    ")"
   ]
  },
  {
   "cell_type": "markdown",
   "metadata": {
    "id": "8lXF4v4SXRf3"
   },
   "source": [
    "The code above uses [method chaining](https://tomaugspurger.net/posts/method-chaining/) to combine a series of operations into a single statement. You might find it useful to break the code up into multiple statements and inspect each of the intermediate results!"
   ]
  },
  {
   "cell_type": "markdown",
   "metadata": {
    "id": "H7_9EmGyXUJd"
   },
   "source": [
    "<a name='s1-3.2'></a>\n",
    "### Which vehicle body types are most frequently involved in parking violations? ###\n",
    "We can also investigate which vehicle body types most commonly appear in parking violations. "
   ]
  },
  {
   "cell_type": "code",
   "execution_count": 9,
   "metadata": {
    "colab": {
     "base_uri": "https://localhost:8080/",
     "height": 455
    },
    "id": "d7Ax-u4TXZtp",
    "outputId": "0feeca28-ca17-4818-8ecb-d62ea5e1c1db",
    "tags": []
   },
   "outputs": [
    {
     "data": {
      "text/html": [
       "<div>\n",
       "<style scoped>\n",
       "    .dataframe tbody tr th:only-of-type {\n",
       "        vertical-align: middle;\n",
       "    }\n",
       "\n",
       "    .dataframe tbody tr th {\n",
       "        vertical-align: top;\n",
       "    }\n",
       "\n",
       "    .dataframe thead th {\n",
       "        text-align: right;\n",
       "    }\n",
       "</style>\n",
       "<table border=\"1\" class=\"dataframe\">\n",
       "  <thead>\n",
       "    <tr style=\"text-align: right;\">\n",
       "      <th></th>\n",
       "      <th>Count</th>\n",
       "    </tr>\n",
       "    <tr>\n",
       "      <th>Vehicle Body Type</th>\n",
       "      <th></th>\n",
       "    </tr>\n",
       "  </thead>\n",
       "  <tbody>\n",
       "    <tr>\n",
       "      <th>SUBN</th>\n",
       "      <td>6449007</td>\n",
       "    </tr>\n",
       "    <tr>\n",
       "      <th>4DSD</th>\n",
       "      <td>4402991</td>\n",
       "    </tr>\n",
       "    <tr>\n",
       "      <th>VAN</th>\n",
       "      <td>1317899</td>\n",
       "    </tr>\n",
       "    <tr>\n",
       "      <th>DELV</th>\n",
       "      <td>436430</td>\n",
       "    </tr>\n",
       "    <tr>\n",
       "      <th>PICK</th>\n",
       "      <td>429798</td>\n",
       "    </tr>\n",
       "    <tr>\n",
       "      <th>...</th>\n",
       "      <td>...</td>\n",
       "    </tr>\n",
       "    <tr>\n",
       "      <th>OLLL</th>\n",
       "      <td>1</td>\n",
       "    </tr>\n",
       "    <tr>\n",
       "      <th>OLLE</th>\n",
       "      <td>1</td>\n",
       "    </tr>\n",
       "    <tr>\n",
       "      <th>OLHE</th>\n",
       "      <td>1</td>\n",
       "    </tr>\n",
       "    <tr>\n",
       "      <th>OLEL</th>\n",
       "      <td>1</td>\n",
       "    </tr>\n",
       "    <tr>\n",
       "      <th>YL</th>\n",
       "      <td>1</td>\n",
       "    </tr>\n",
       "  </tbody>\n",
       "</table>\n",
       "<p>967 rows × 1 columns</p>\n",
       "</div>"
      ],
      "text/plain": [
       "                     Count\n",
       "Vehicle Body Type         \n",
       "SUBN               6449007\n",
       "4DSD               4402991\n",
       "VAN                1317899\n",
       "DELV                436430\n",
       "PICK                429798\n",
       "...                    ...\n",
       "OLLL                     1\n",
       "OLLE                     1\n",
       "OLHE                     1\n",
       "OLEL                     1\n",
       "YL                       1\n",
       "\n",
       "[967 rows x 1 columns]"
      ]
     },
     "execution_count": 9,
     "metadata": {},
     "output_type": "execute_result"
    }
   ],
   "source": [
    "(df\n",
    " .groupby([\"Vehicle Body Type\"])\n",
    " .agg({\"Summons Number\": \"count\"})\n",
    " .rename(columns={\"Summons Number\": \"Count\"})\n",
    " .sort_values([\"Count\"], ascending=False)\n",
    ")"
   ]
  },
  {
   "cell_type": "markdown",
   "metadata": {
    "id": "VjFfQLZHXehM"
   },
   "source": [
    "<a name='s1-3.3'></a>\n",
    "### How do parking violations vary across days of the week? ###"
   ]
  },
  {
   "cell_type": "code",
   "execution_count": 10,
   "metadata": {
    "colab": {
     "base_uri": "https://localhost:8080/"
    },
    "id": "s5_y9m_AXhIw",
    "outputId": "11d16e26-4a5d-4fbb-c777-7d50a23895ae",
    "tags": []
   },
   "outputs": [
    {
     "data": {
      "text/plain": [
       "issue_weekday\n",
       "Sunday        462992\n",
       "Saturday     1108385\n",
       "Monday       2488563\n",
       "Wednesday    2760088\n",
       "Tuesday      2809949\n",
       "Friday       2891679\n",
       "Thursday     2913951\n",
       "Name: Summons Number, dtype: int64"
      ]
     },
     "execution_count": 10,
     "metadata": {},
     "output_type": "execute_result"
    }
   ],
   "source": [
    "weekday_names = {\n",
    "    0: \"Monday\",\n",
    "    1: \"Tuesday\",\n",
    "    2: \"Wednesday\",\n",
    "    3: \"Thursday\",\n",
    "    4: \"Friday\",\n",
    "    5: \"Saturday\",\n",
    "    6: \"Sunday\",\n",
    "}\n",
    "\n",
    "df[\"Issue Date\"] = df[\"Issue Date\"].astype(\"datetime64[ms]\")\n",
    "df[\"issue_weekday\"] = df[\"Issue Date\"].dt.weekday.map(weekday_names)\n",
    "\n",
    "df.groupby([\"issue_weekday\"])[\"Summons Number\"].count().sort_values()"
   ]
  },
  {
   "cell_type": "markdown",
   "metadata": {
    "id": "LDeYr6xkXiDc"
   },
   "source": [
    "It looks like there are fewer violations on weekends, which makes sense! During the week, more people are driving in New York City."
   ]
  },
  {
   "cell_type": "markdown",
   "metadata": {
    "id": "JKBQcT64XlMr"
   },
   "source": [
    "<a name='s1-3.4'></a>\n",
    "### Let's time it! ###\n",
    "Loading and processing this data took a little time. Let's measure how long these pipelines take in pandas:"
   ]
  },
  {
   "cell_type": "code",
   "execution_count": 11,
   "metadata": {
    "colab": {
     "base_uri": "https://localhost:8080/",
     "height": 458
    },
    "id": "mDpQhus-Xnfs",
    "outputId": "e9af1194-a0f8-48d4-a1b3-42dba63f3110",
    "tags": []
   },
   "outputs": [
    {
     "name": "stdout",
     "output_type": "stream",
     "text": [
      "CPU times: user 4.38 s, sys: 965 ms, total: 5.34 s\n",
      "Wall time: 3.4 s\n"
     ]
    },
    {
     "data": {
      "text/html": [
       "<div>\n",
       "<style scoped>\n",
       "    .dataframe tbody tr th:only-of-type {\n",
       "        vertical-align: middle;\n",
       "    }\n",
       "\n",
       "    .dataframe tbody tr th {\n",
       "        vertical-align: top;\n",
       "    }\n",
       "\n",
       "    .dataframe thead th {\n",
       "        text-align: right;\n",
       "    }\n",
       "</style>\n",
       "<table border=\"1\" class=\"dataframe\">\n",
       "  <thead>\n",
       "    <tr style=\"text-align: right;\">\n",
       "      <th></th>\n",
       "      <th>Registration State</th>\n",
       "      <th>Violation Description</th>\n",
       "      <th>count</th>\n",
       "    </tr>\n",
       "  </thead>\n",
       "  <tbody>\n",
       "    <tr>\n",
       "      <th>0</th>\n",
       "      <td>99</td>\n",
       "      <td>&lt;NA&gt;</td>\n",
       "      <td>17550</td>\n",
       "    </tr>\n",
       "    <tr>\n",
       "      <th>1</th>\n",
       "      <td>AB</td>\n",
       "      <td>14-No Standing</td>\n",
       "      <td>22</td>\n",
       "    </tr>\n",
       "    <tr>\n",
       "      <th>2</th>\n",
       "      <td>AK</td>\n",
       "      <td>PHTO SCHOOL ZN SPEED VIOLATION</td>\n",
       "      <td>125</td>\n",
       "    </tr>\n",
       "    <tr>\n",
       "      <th>3</th>\n",
       "      <td>AL</td>\n",
       "      <td>PHTO SCHOOL ZN SPEED VIOLATION</td>\n",
       "      <td>3668</td>\n",
       "    </tr>\n",
       "    <tr>\n",
       "      <th>4</th>\n",
       "      <td>AR</td>\n",
       "      <td>PHTO SCHOOL ZN SPEED VIOLATION</td>\n",
       "      <td>537</td>\n",
       "    </tr>\n",
       "    <tr>\n",
       "      <th>...</th>\n",
       "      <td>...</td>\n",
       "      <td>...</td>\n",
       "      <td>...</td>\n",
       "    </tr>\n",
       "    <tr>\n",
       "      <th>62</th>\n",
       "      <td>VT</td>\n",
       "      <td>PHTO SCHOOL ZN SPEED VIOLATION</td>\n",
       "      <td>3024</td>\n",
       "    </tr>\n",
       "    <tr>\n",
       "      <th>63</th>\n",
       "      <td>WA</td>\n",
       "      <td>21-No Parking (street clean)</td>\n",
       "      <td>3732</td>\n",
       "    </tr>\n",
       "    <tr>\n",
       "      <th>64</th>\n",
       "      <td>WI</td>\n",
       "      <td>14-No Standing</td>\n",
       "      <td>1639</td>\n",
       "    </tr>\n",
       "    <tr>\n",
       "      <th>65</th>\n",
       "      <td>WV</td>\n",
       "      <td>PHTO SCHOOL ZN SPEED VIOLATION</td>\n",
       "      <td>1185</td>\n",
       "    </tr>\n",
       "    <tr>\n",
       "      <th>66</th>\n",
       "      <td>WY</td>\n",
       "      <td>21-No Parking (street clean)</td>\n",
       "      <td>138</td>\n",
       "    </tr>\n",
       "  </tbody>\n",
       "</table>\n",
       "<p>67 rows × 3 columns</p>\n",
       "</div>"
      ],
      "text/plain": [
       "   Registration State           Violation Description  count\n",
       "0                  99                            <NA>  17550\n",
       "1                  AB                  14-No Standing     22\n",
       "2                  AK  PHTO SCHOOL ZN SPEED VIOLATION    125\n",
       "3                  AL  PHTO SCHOOL ZN SPEED VIOLATION   3668\n",
       "4                  AR  PHTO SCHOOL ZN SPEED VIOLATION    537\n",
       "..                ...                             ...    ...\n",
       "62                 VT  PHTO SCHOOL ZN SPEED VIOLATION   3024\n",
       "63                 WA    21-No Parking (street clean)   3732\n",
       "64                 WI                  14-No Standing   1639\n",
       "65                 WV  PHTO SCHOOL ZN SPEED VIOLATION   1185\n",
       "66                 WY    21-No Parking (street clean)    138\n",
       "\n",
       "[67 rows x 3 columns]"
      ]
     },
     "execution_count": 11,
     "metadata": {},
     "output_type": "execute_result"
    }
   ],
   "source": [
    "%%time\n",
    "\n",
    "df = pd.read_parquet(\n",
    "    \"nyc_parking_violations_2022.parquet\",\n",
    "    columns=[\"Registration State\", \"Violation Description\", \"Vehicle Body Type\", \"Issue Date\", \"Summons Number\"]\n",
    ")\n",
    "\n",
    "(df[[\"Registration State\", \"Violation Description\"]]\n",
    " .value_counts()\n",
    " .groupby(\"Registration State\")\n",
    " .head(1)\n",
    " .sort_index()\n",
    " .reset_index()\n",
    ")"
   ]
  },
  {
   "cell_type": "code",
   "execution_count": 12,
   "metadata": {
    "colab": {
     "base_uri": "https://localhost:8080/",
     "height": 490
    },
    "id": "9Gw5TWH2Xqgv",
    "outputId": "eabf2e77-6fef-4751-d682-7c5c51ebc86e",
    "tags": []
   },
   "outputs": [
    {
     "name": "stdout",
     "output_type": "stream",
     "text": [
      "CPU times: user 477 ms, sys: 174 ms, total: 651 ms\n",
      "Wall time: 647 ms\n"
     ]
    },
    {
     "data": {
      "text/html": [
       "<div>\n",
       "<style scoped>\n",
       "    .dataframe tbody tr th:only-of-type {\n",
       "        vertical-align: middle;\n",
       "    }\n",
       "\n",
       "    .dataframe tbody tr th {\n",
       "        vertical-align: top;\n",
       "    }\n",
       "\n",
       "    .dataframe thead th {\n",
       "        text-align: right;\n",
       "    }\n",
       "</style>\n",
       "<table border=\"1\" class=\"dataframe\">\n",
       "  <thead>\n",
       "    <tr style=\"text-align: right;\">\n",
       "      <th></th>\n",
       "      <th>Count</th>\n",
       "    </tr>\n",
       "    <tr>\n",
       "      <th>Vehicle Body Type</th>\n",
       "      <th></th>\n",
       "    </tr>\n",
       "  </thead>\n",
       "  <tbody>\n",
       "    <tr>\n",
       "      <th>SUBN</th>\n",
       "      <td>6449007</td>\n",
       "    </tr>\n",
       "    <tr>\n",
       "      <th>4DSD</th>\n",
       "      <td>4402991</td>\n",
       "    </tr>\n",
       "    <tr>\n",
       "      <th>VAN</th>\n",
       "      <td>1317899</td>\n",
       "    </tr>\n",
       "    <tr>\n",
       "      <th>DELV</th>\n",
       "      <td>436430</td>\n",
       "    </tr>\n",
       "    <tr>\n",
       "      <th>PICK</th>\n",
       "      <td>429798</td>\n",
       "    </tr>\n",
       "    <tr>\n",
       "      <th>...</th>\n",
       "      <td>...</td>\n",
       "    </tr>\n",
       "    <tr>\n",
       "      <th>OLLL</th>\n",
       "      <td>1</td>\n",
       "    </tr>\n",
       "    <tr>\n",
       "      <th>OLLE</th>\n",
       "      <td>1</td>\n",
       "    </tr>\n",
       "    <tr>\n",
       "      <th>OLHE</th>\n",
       "      <td>1</td>\n",
       "    </tr>\n",
       "    <tr>\n",
       "      <th>OLEL</th>\n",
       "      <td>1</td>\n",
       "    </tr>\n",
       "    <tr>\n",
       "      <th>YL</th>\n",
       "      <td>1</td>\n",
       "    </tr>\n",
       "  </tbody>\n",
       "</table>\n",
       "<p>967 rows × 1 columns</p>\n",
       "</div>"
      ],
      "text/plain": [
       "                     Count\n",
       "Vehicle Body Type         \n",
       "SUBN               6449007\n",
       "4DSD               4402991\n",
       "VAN                1317899\n",
       "DELV                436430\n",
       "PICK                429798\n",
       "...                    ...\n",
       "OLLL                     1\n",
       "OLLE                     1\n",
       "OLHE                     1\n",
       "OLEL                     1\n",
       "YL                       1\n",
       "\n",
       "[967 rows x 1 columns]"
      ]
     },
     "execution_count": 12,
     "metadata": {},
     "output_type": "execute_result"
    }
   ],
   "source": [
    "%%time\n",
    "\n",
    "(df\n",
    " .groupby([\"Vehicle Body Type\"])\n",
    " .agg({\"Summons Number\": \"count\"})\n",
    " .rename(columns={\"Summons Number\": \"Count\"})\n",
    " .sort_values([\"Count\"], ascending=False)\n",
    ")"
   ]
  },
  {
   "cell_type": "code",
   "execution_count": 13,
   "metadata": {
    "colab": {
     "base_uri": "https://localhost:8080/"
    },
    "id": "BovQgNrpXr2l",
    "outputId": "01b2c4fc-8c8c-4947-92a2-a3e2f0a7cf14",
    "tags": []
   },
   "outputs": [
    {
     "name": "stdout",
     "output_type": "stream",
     "text": [
      "CPU times: user 5.62 s, sys: 231 ms, total: 5.86 s\n",
      "Wall time: 5.81 s\n"
     ]
    },
    {
     "data": {
      "text/plain": [
       "issue_weekday\n",
       "Sunday        462992\n",
       "Saturday     1108385\n",
       "Monday       2488563\n",
       "Wednesday    2760088\n",
       "Tuesday      2809949\n",
       "Friday       2891679\n",
       "Thursday     2913951\n",
       "Name: Summons Number, dtype: int64"
      ]
     },
     "execution_count": 13,
     "metadata": {},
     "output_type": "execute_result"
    }
   ],
   "source": [
    "%%time\n",
    "\n",
    "weekday_names = {\n",
    "    0: \"Monday\",\n",
    "    1: \"Tuesday\",\n",
    "    2: \"Wednesday\",\n",
    "    3: \"Thursday\",\n",
    "    4: \"Friday\",\n",
    "    5: \"Saturday\",\n",
    "    6: \"Sunday\",\n",
    "}\n",
    "\n",
    "df[\"Issue Date\"] = df[\"Issue Date\"].astype(\"datetime64[ms]\")\n",
    "df[\"issue_weekday\"] = df[\"Issue Date\"].dt.weekday.map(weekday_names)\n",
    "\n",
    "df.groupby([\"issue_weekday\"])[\"Summons Number\"].count().sort_values()"
   ]
  },
  {
   "cell_type": "markdown",
   "metadata": {
    "id": "VgAWS0yXXtGj"
   },
   "source": [
    "<a name='s1-4'></a>\n",
    "## Using cuDF's pandas accelerator mode (cudf.pandas) ##\n",
    "Now, let's re-run the pandas code above with the `cudf.pandas` extension loaded. Typically, you should load the `cudf.pandas` extension as the first step in your notebook, before importing any modules. Here, we explicitly restart the kernel to simulate that behavior."
   ]
  },
  {
   "cell_type": "code",
   "execution_count": 14,
   "metadata": {
    "colab": {
     "base_uri": "https://localhost:8080/"
    },
    "id": "hW5rUr2tXzUW",
    "outputId": "5ad04ad3-9e5a-4609-8e0d-fe19f02c32d0",
    "tags": []
   },
   "outputs": [
    {
     "data": {
      "text/plain": [
       "{'status': 'ok', 'restart': True}"
      ]
     },
     "execution_count": 14,
     "metadata": {},
     "output_type": "execute_result"
    }
   ],
   "source": [
    "get_ipython().kernel.do_shutdown(restart=True)"
   ]
  },
  {
   "cell_type": "code",
   "execution_count": 2,
   "metadata": {
    "id": "NjvPsTlGZrW7",
    "tags": []
   },
   "outputs": [
    {
     "name": "stdout",
     "output_type": "stream",
     "text": [
      "The cudf.pandas extension is already loaded. To reload it, use:\n",
      "  %reload_ext cudf.pandas\n"
     ]
    }
   ],
   "source": [
    "%load_ext cudf.pandas"
   ]
  },
  {
   "cell_type": "code",
   "execution_count": 3,
   "metadata": {
    "colab": {
     "base_uri": "https://localhost:8080/",
     "height": 458
    },
    "id": "XL_u4l5gZJte",
    "outputId": "72daadb7-8f34-4a29-ce76-d8c7a8917eb8",
    "tags": []
   },
   "outputs": [
    {
     "name": "stdout",
     "output_type": "stream",
     "text": [
      "CPU times: user 405 ms, sys: 928 ms, total: 1.33 s\n",
      "Wall time: 1.49 s\n"
     ]
    },
    {
     "data": {
      "text/html": [
       "<div>\n",
       "<style scoped>\n",
       "    .dataframe tbody tr th:only-of-type {\n",
       "        vertical-align: middle;\n",
       "    }\n",
       "\n",
       "    .dataframe tbody tr th {\n",
       "        vertical-align: top;\n",
       "    }\n",
       "\n",
       "    .dataframe thead th {\n",
       "        text-align: right;\n",
       "    }\n",
       "</style>\n",
       "<table border=\"1\" class=\"dataframe\">\n",
       "  <thead>\n",
       "    <tr style=\"text-align: right;\">\n",
       "      <th></th>\n",
       "      <th>Registration State</th>\n",
       "      <th>Violation Description</th>\n",
       "      <th>count</th>\n",
       "    </tr>\n",
       "  </thead>\n",
       "  <tbody>\n",
       "    <tr>\n",
       "      <th>0</th>\n",
       "      <td>99</td>\n",
       "      <td>&lt;NA&gt;</td>\n",
       "      <td>17550</td>\n",
       "    </tr>\n",
       "    <tr>\n",
       "      <th>1</th>\n",
       "      <td>AB</td>\n",
       "      <td>14-No Standing</td>\n",
       "      <td>22</td>\n",
       "    </tr>\n",
       "    <tr>\n",
       "      <th>2</th>\n",
       "      <td>AK</td>\n",
       "      <td>PHTO SCHOOL ZN SPEED VIOLATION</td>\n",
       "      <td>125</td>\n",
       "    </tr>\n",
       "    <tr>\n",
       "      <th>3</th>\n",
       "      <td>AL</td>\n",
       "      <td>PHTO SCHOOL ZN SPEED VIOLATION</td>\n",
       "      <td>3668</td>\n",
       "    </tr>\n",
       "    <tr>\n",
       "      <th>4</th>\n",
       "      <td>AR</td>\n",
       "      <td>PHTO SCHOOL ZN SPEED VIOLATION</td>\n",
       "      <td>537</td>\n",
       "    </tr>\n",
       "    <tr>\n",
       "      <th>...</th>\n",
       "      <td>...</td>\n",
       "      <td>...</td>\n",
       "      <td>...</td>\n",
       "    </tr>\n",
       "    <tr>\n",
       "      <th>62</th>\n",
       "      <td>VT</td>\n",
       "      <td>PHTO SCHOOL ZN SPEED VIOLATION</td>\n",
       "      <td>3024</td>\n",
       "    </tr>\n",
       "    <tr>\n",
       "      <th>63</th>\n",
       "      <td>WA</td>\n",
       "      <td>21-No Parking (street clean)</td>\n",
       "      <td>3732</td>\n",
       "    </tr>\n",
       "    <tr>\n",
       "      <th>64</th>\n",
       "      <td>WI</td>\n",
       "      <td>14-No Standing</td>\n",
       "      <td>1639</td>\n",
       "    </tr>\n",
       "    <tr>\n",
       "      <th>65</th>\n",
       "      <td>WV</td>\n",
       "      <td>PHTO SCHOOL ZN SPEED VIOLATION</td>\n",
       "      <td>1185</td>\n",
       "    </tr>\n",
       "    <tr>\n",
       "      <th>66</th>\n",
       "      <td>WY</td>\n",
       "      <td>21-No Parking (street clean)</td>\n",
       "      <td>138</td>\n",
       "    </tr>\n",
       "  </tbody>\n",
       "</table>\n",
       "<p>67 rows × 3 columns</p>\n",
       "</div>"
      ],
      "text/plain": [
       "   Registration State           Violation Description  count\n",
       "0                  99                            <NA>  17550\n",
       "1                  AB                  14-No Standing     22\n",
       "2                  AK  PHTO SCHOOL ZN SPEED VIOLATION    125\n",
       "3                  AL  PHTO SCHOOL ZN SPEED VIOLATION   3668\n",
       "4                  AR  PHTO SCHOOL ZN SPEED VIOLATION    537\n",
       "..                ...                             ...    ...\n",
       "62                 VT  PHTO SCHOOL ZN SPEED VIOLATION   3024\n",
       "63                 WA    21-No Parking (street clean)   3732\n",
       "64                 WI                  14-No Standing   1639\n",
       "65                 WV  PHTO SCHOOL ZN SPEED VIOLATION   1185\n",
       "66                 WY    21-No Parking (street clean)    138\n",
       "\n",
       "[67 rows x 3 columns]"
      ]
     },
     "execution_count": 3,
     "metadata": {},
     "output_type": "execute_result"
    }
   ],
   "source": [
    "%%time\n",
    "\n",
    "import pandas as pd\n",
    "\n",
    "df = pd.read_parquet(\n",
    "    \"nyc_parking_violations_2022.parquet\",\n",
    "    columns=[\"Registration State\", \"Violation Description\", \"Vehicle Body Type\", \"Issue Date\", \"Summons Number\"]\n",
    ")\n",
    "\n",
    "(df[[\"Registration State\", \"Violation Description\"]]\n",
    " .value_counts()\n",
    " .groupby(\"Registration State\")\n",
    " .head(1)\n",
    " .sort_index()\n",
    " .reset_index()\n",
    ")"
   ]
  },
  {
   "cell_type": "code",
   "execution_count": 4,
   "metadata": {
    "colab": {
     "base_uri": "https://localhost:8080/",
     "height": 490
    },
    "id": "BLWa8ed6d-pD",
    "outputId": "a717d797-b6d4-4baf-dce3-c281e52d1576",
    "tags": []
   },
   "outputs": [
    {
     "name": "stdout",
     "output_type": "stream",
     "text": [
      "CPU times: user 8.87 ms, sys: 8.11 ms, total: 17 ms\n",
      "Wall time: 14 ms\n"
     ]
    },
    {
     "data": {
      "text/html": [
       "<div>\n",
       "<style scoped>\n",
       "    .dataframe tbody tr th:only-of-type {\n",
       "        vertical-align: middle;\n",
       "    }\n",
       "\n",
       "    .dataframe tbody tr th {\n",
       "        vertical-align: top;\n",
       "    }\n",
       "\n",
       "    .dataframe thead th {\n",
       "        text-align: right;\n",
       "    }\n",
       "</style>\n",
       "<table border=\"1\" class=\"dataframe\">\n",
       "  <thead>\n",
       "    <tr style=\"text-align: right;\">\n",
       "      <th></th>\n",
       "      <th>Count</th>\n",
       "    </tr>\n",
       "    <tr>\n",
       "      <th>Vehicle Body Type</th>\n",
       "      <th></th>\n",
       "    </tr>\n",
       "  </thead>\n",
       "  <tbody>\n",
       "    <tr>\n",
       "      <th>SUBN</th>\n",
       "      <td>6449007</td>\n",
       "    </tr>\n",
       "    <tr>\n",
       "      <th>4DSD</th>\n",
       "      <td>4402991</td>\n",
       "    </tr>\n",
       "    <tr>\n",
       "      <th>VAN</th>\n",
       "      <td>1317899</td>\n",
       "    </tr>\n",
       "    <tr>\n",
       "      <th>DELV</th>\n",
       "      <td>436430</td>\n",
       "    </tr>\n",
       "    <tr>\n",
       "      <th>PICK</th>\n",
       "      <td>429798</td>\n",
       "    </tr>\n",
       "    <tr>\n",
       "      <th>...</th>\n",
       "      <td>...</td>\n",
       "    </tr>\n",
       "    <tr>\n",
       "      <th>YANT</th>\n",
       "      <td>1</td>\n",
       "    </tr>\n",
       "    <tr>\n",
       "      <th>YBSD</th>\n",
       "      <td>1</td>\n",
       "    </tr>\n",
       "    <tr>\n",
       "      <th>YEL</th>\n",
       "      <td>1</td>\n",
       "    </tr>\n",
       "    <tr>\n",
       "      <th>YL</th>\n",
       "      <td>1</td>\n",
       "    </tr>\n",
       "    <tr>\n",
       "      <th>Z1UT</th>\n",
       "      <td>1</td>\n",
       "    </tr>\n",
       "  </tbody>\n",
       "</table>\n",
       "<p>967 rows × 1 columns</p>\n",
       "</div>"
      ],
      "text/plain": [
       "                     Count\n",
       "Vehicle Body Type         \n",
       "SUBN               6449007\n",
       "4DSD               4402991\n",
       "VAN                1317899\n",
       "DELV                436430\n",
       "PICK                429798\n",
       "...                    ...\n",
       "YANT                     1\n",
       "YBSD                     1\n",
       "YEL                      1\n",
       "YL                       1\n",
       "Z1UT                     1\n",
       "\n",
       "[967 rows x 1 columns]"
      ]
     },
     "execution_count": 4,
     "metadata": {},
     "output_type": "execute_result"
    }
   ],
   "source": [
    "%%time\n",
    "\n",
    "(df\n",
    " .groupby([\"Vehicle Body Type\"])\n",
    " .agg({\"Summons Number\": \"count\"})\n",
    " .rename(columns={\"Summons Number\": \"Count\"})\n",
    " .sort_values([\"Count\"], ascending=False)\n",
    ")"
   ]
  },
  {
   "cell_type": "code",
   "execution_count": 5,
   "metadata": {
    "colab": {
     "base_uri": "https://localhost:8080/"
    },
    "id": "X6ASy4mPd_-c",
    "outputId": "d45b6616-a0f8-48ba-e86a-6ad087c4af4c",
    "tags": []
   },
   "outputs": [
    {
     "name": "stdout",
     "output_type": "stream",
     "text": [
      "CPU times: user 96 ms, sys: 82.3 ms, total: 178 ms\n",
      "Wall time: 195 ms\n"
     ]
    },
    {
     "data": {
      "text/plain": [
       "issue_weekday\n",
       "Sunday        462992\n",
       "Saturday     1108385\n",
       "Monday       2488563\n",
       "Wednesday    2760088\n",
       "Tuesday      2809949\n",
       "Friday       2891679\n",
       "Thursday     2913951\n",
       "Name: Summons Number, dtype: int64"
      ]
     },
     "execution_count": 5,
     "metadata": {},
     "output_type": "execute_result"
    }
   ],
   "source": [
    "%%time\n",
    "\n",
    "weekday_names = {\n",
    "    0: \"Monday\",\n",
    "    1: \"Tuesday\",\n",
    "    2: \"Wednesday\",\n",
    "    3: \"Thursday\",\n",
    "    4: \"Friday\",\n",
    "    5: \"Saturday\",\n",
    "    6: \"Sunday\",\n",
    "}\n",
    "\n",
    "df[\"Issue Date\"] = df[\"Issue Date\"].astype(\"datetime64[ms]\")\n",
    "df[\"issue_weekday\"] = df[\"Issue Date\"].dt.weekday.map(weekday_names)\n",
    "\n",
    "df.groupby([\"issue_weekday\"])[\"Summons Number\"].count().sort_values()"
   ]
  },
  {
   "cell_type": "markdown",
   "metadata": {
    "id": "FMUrf6iMeBdM"
   },
   "source": [
    "Much faster! Operations that took 5-20 seconds can now potentially finish in just milliseconds without changing any code."
   ]
  },
  {
   "cell_type": "markdown",
   "metadata": {
    "id": "00m6gUxqeGzk"
   },
   "source": [
    "<a name='s1-5'></a>\n",
    "## Understanding Performance ##\n",
    "cuDF's pandas accelerator mode provides profiling utilities to help you better understand performance. With these tools, you can identify which parts of your code ran on the GPU and which parts ran on the CPU. They're accessible in the `cudf.pandas` namespace since the `cudf.pandas` extension was loaded above with `load_ext cudf.pandas`."
   ]
  },
  {
   "cell_type": "markdown",
   "metadata": {},
   "source": [
    "<a name='s1-5.1'></a>\n",
    "### Profiling Functionality ###\n",
    "We can generate a per-function profile:"
   ]
  },
  {
   "cell_type": "code",
   "execution_count": 6,
   "metadata": {
    "colab": {
     "base_uri": "https://localhost:8080/",
     "height": 334
    },
    "id": "RFm22OWbeHF2",
    "outputId": "eed4240d-01e1-4007-aced-28c29fe172a5"
   },
   "outputs": [
    {
     "data": {
      "text/html": [
       "<pre style=\"white-space:pre;overflow-x:auto;line-height:normal;font-family:Menlo,'DejaVu Sans Mono',consolas,'Courier New',monospace\"><span style=\"font-style: italic\">                                                                                                         </span>\n",
       "<span style=\"font-style: italic\">                                        Total time elapsed: 0.587 seconds                                </span>\n",
       "<span style=\"font-style: italic\">                                      7 GPU function calls in 0.345 seconds                              </span>\n",
       "<span style=\"font-style: italic\">                                      0 CPU function calls in 0.000 seconds                              </span>\n",
       "<span style=\"font-style: italic\">                                                                                                         </span>\n",
       "<span style=\"font-style: italic\">                                                      Stats                                              </span>\n",
       "<span style=\"font-style: italic\">                                                                                                         </span>\n",
       "┏━━━━━━━━━━━━━━━━━━━━━┳━━━━━━━━━━━━┳━━━━━━━━━━━━━┳━━━━━━━━━━━━━┳━━━━━━━━━━━━┳━━━━━━━━━━━━━┳━━━━━━━━━━━━━┓\n",
       "┃<span style=\"font-weight: bold\"> Function            </span>┃<span style=\"font-weight: bold\"> GPU ncalls </span>┃<span style=\"font-weight: bold\"> GPU cumtime </span>┃<span style=\"font-weight: bold\"> GPU percall </span>┃<span style=\"font-weight: bold\"> CPU ncalls </span>┃<span style=\"font-weight: bold\"> CPU cumtime </span>┃<span style=\"font-weight: bold\"> CPU percall </span>┃\n",
       "┡━━━━━━━━━━━━━━━━━━━━━╇━━━━━━━━━━━━╇━━━━━━━━━━━━━╇━━━━━━━━━━━━━╇━━━━━━━━━━━━╇━━━━━━━━━━━━━╇━━━━━━━━━━━━━┩\n",
       "│ DataFrame           │ 1          │ 0.003       │ 0.003       │ 0          │ 0.000       │ 0.000       │\n",
       "│ concat              │ 1          │ 0.082       │ 0.082       │ 0          │ 0.000       │ 0.000       │\n",
       "│ DataFrame.min       │ 2          │ 0.249       │ 0.125       │ 0          │ 0.000       │ 0.000       │\n",
       "│ DataFrame.groupby   │ 1          │ 0.001       │ 0.001       │ 0          │ 0.000       │ 0.000       │\n",
       "│ GroupBy.__getattr__ │ 1          │ 0.002       │ 0.002       │ 0          │ 0.000       │ 0.000       │\n",
       "│ GroupBy.count       │ 1          │ 0.008       │ 0.008       │ 0          │ 0.000       │ 0.000       │\n",
       "└─────────────────────┴────────────┴─────────────┴─────────────┴────────────┴─────────────┴─────────────┘\n",
       "</pre>\n"
      ],
      "text/plain": [
       "\u001b[3m                                                                                                         \u001b[0m\n",
       "\u001b[3m                                        Total time elapsed: 0.587 seconds                                \u001b[0m\n",
       "\u001b[3m                                      7 GPU function calls in 0.345 seconds                              \u001b[0m\n",
       "\u001b[3m                                      0 CPU function calls in 0.000 seconds                              \u001b[0m\n",
       "\u001b[3m                                                                                                         \u001b[0m\n",
       "\u001b[3m                                                      Stats                                              \u001b[0m\n",
       "\u001b[3m                                                                                                         \u001b[0m\n",
       "┏━━━━━━━━━━━━━━━━━━━━━┳━━━━━━━━━━━━┳━━━━━━━━━━━━━┳━━━━━━━━━━━━━┳━━━━━━━━━━━━┳━━━━━━━━━━━━━┳━━━━━━━━━━━━━┓\n",
       "┃\u001b[1m \u001b[0m\u001b[1mFunction           \u001b[0m\u001b[1m \u001b[0m┃\u001b[1m \u001b[0m\u001b[1mGPU ncalls\u001b[0m\u001b[1m \u001b[0m┃\u001b[1m \u001b[0m\u001b[1mGPU cumtime\u001b[0m\u001b[1m \u001b[0m┃\u001b[1m \u001b[0m\u001b[1mGPU percall\u001b[0m\u001b[1m \u001b[0m┃\u001b[1m \u001b[0m\u001b[1mCPU ncalls\u001b[0m\u001b[1m \u001b[0m┃\u001b[1m \u001b[0m\u001b[1mCPU cumtime\u001b[0m\u001b[1m \u001b[0m┃\u001b[1m \u001b[0m\u001b[1mCPU percall\u001b[0m\u001b[1m \u001b[0m┃\n",
       "┡━━━━━━━━━━━━━━━━━━━━━╇━━━━━━━━━━━━╇━━━━━━━━━━━━━╇━━━━━━━━━━━━━╇━━━━━━━━━━━━╇━━━━━━━━━━━━━╇━━━━━━━━━━━━━┩\n",
       "│ DataFrame           │ 1          │ 0.003       │ 0.003       │ 0          │ 0.000       │ 0.000       │\n",
       "│ concat              │ 1          │ 0.082       │ 0.082       │ 0          │ 0.000       │ 0.000       │\n",
       "│ DataFrame.min       │ 2          │ 0.249       │ 0.125       │ 0          │ 0.000       │ 0.000       │\n",
       "│ DataFrame.groupby   │ 1          │ 0.001       │ 0.001       │ 0          │ 0.000       │ 0.000       │\n",
       "│ GroupBy.__getattr__ │ 1          │ 0.002       │ 0.002       │ 0          │ 0.000       │ 0.000       │\n",
       "│ GroupBy.count       │ 1          │ 0.008       │ 0.008       │ 0          │ 0.000       │ 0.000       │\n",
       "└─────────────────────┴────────────┴─────────────┴─────────────┴────────────┴─────────────┴─────────────┘\n"
      ]
     },
     "metadata": {},
     "output_type": "display_data"
    }
   ],
   "source": [
    "%%cudf.pandas.profile\n",
    "\n",
    "small_df = pd.DataFrame({'a': [0, 1, 2], 'b': [\"x\", \"y\", \"z\"]})\n",
    "small_df = pd.concat([small_df, small_df])\n",
    "\n",
    "axis = 0\n",
    "for i in range(0, 2):\n",
    "    small_df.min(axis=axis, numeric_only=True)\n",
    "    axis = 1\n",
    "\n",
    "counts = small_df.groupby(\"a\").b.count()"
   ]
  },
  {
   "cell_type": "code",
   "execution_count": 7,
   "metadata": {
    "colab": {
     "base_uri": "https://localhost:8080/",
     "height": 448
    },
    "id": "Syb-_vZweN2H",
    "outputId": "96e1ea1c-f3d7-4792-abcb-9e90c1dcdd1c"
   },
   "outputs": [
    {
     "data": {
      "text/html": [
       "<pre style=\"white-space:pre;overflow-x:auto;line-height:normal;font-family:Menlo,'DejaVu Sans Mono',consolas,'Courier New',monospace\"><span style=\"font-style: italic\">                                                                                                              </span>\n",
       "<span style=\"font-style: italic\">                                          Total time elapsed: 0.737 seconds                                   </span>\n",
       "<span style=\"font-style: italic\">                                                                                                              </span>\n",
       "<span style=\"font-style: italic\">                                                        Stats                                                 </span>\n",
       "<span style=\"font-style: italic\">                                                                                                              </span>\n",
       "┏━━━━━━━━━━┳━━━━━━━━━━━━━━━━━━━━━━━━━━━━━━━━━━━━━━━━━━━━━━━━━━━━━━━━━━━━━━━━━━━━━┳━━━━━━━━━━━━━┳━━━━━━━━━━━━━┓\n",
       "┃<span style=\"font-weight: bold\"> Line no. </span>┃<span style=\"font-weight: bold\"> Line                                                                </span>┃<span style=\"font-weight: bold\"> GPU TIME(s) </span>┃<span style=\"font-weight: bold\"> CPU TIME(s) </span>┃\n",
       "┡━━━━━━━━━━╇━━━━━━━━━━━━━━━━━━━━━━━━━━━━━━━━━━━━━━━━━━━━━━━━━━━━━━━━━━━━━━━━━━━━━╇━━━━━━━━━━━━━╇━━━━━━━━━━━━━┩\n",
       "│ 2        │ <span style=\"color: #f8f8f2; text-decoration-color: #f8f8f2; background-color: #272822\">    small_df </span><span style=\"color: #ff4689; text-decoration-color: #ff4689; background-color: #272822\">=</span><span style=\"color: #f8f8f2; text-decoration-color: #f8f8f2; background-color: #272822\"> pd</span><span style=\"color: #ff4689; text-decoration-color: #ff4689; background-color: #272822\">.</span><span style=\"color: #f8f8f2; text-decoration-color: #f8f8f2; background-color: #272822\">DataFrame({</span><span style=\"color: #e6db74; text-decoration-color: #e6db74; background-color: #272822\">'a'</span><span style=\"color: #f8f8f2; text-decoration-color: #f8f8f2; background-color: #272822\">: [</span><span style=\"color: #ae81ff; text-decoration-color: #ae81ff; background-color: #272822\">0</span><span style=\"color: #f8f8f2; text-decoration-color: #f8f8f2; background-color: #272822\">, </span><span style=\"color: #ae81ff; text-decoration-color: #ae81ff; background-color: #272822\">1</span><span style=\"color: #f8f8f2; text-decoration-color: #f8f8f2; background-color: #272822\">, </span><span style=\"color: #ae81ff; text-decoration-color: #ae81ff; background-color: #272822\">2</span><span style=\"color: #f8f8f2; text-decoration-color: #f8f8f2; background-color: #272822\">], </span><span style=\"color: #e6db74; text-decoration-color: #e6db74; background-color: #272822\">'b'</span><span style=\"color: #f8f8f2; text-decoration-color: #f8f8f2; background-color: #272822\">: [</span><span style=\"color: #e6db74; text-decoration-color: #e6db74; background-color: #272822\">\"x\"</span><span style=\"color: #f8f8f2; text-decoration-color: #f8f8f2; background-color: #272822\">, </span><span style=\"color: #e6db74; text-decoration-color: #e6db74; background-color: #272822\">\"y\"</span><span style=\"color: #f8f8f2; text-decoration-color: #f8f8f2; background-color: #272822\">, </span><span style=\"color: #e6db74; text-decoration-color: #e6db74; background-color: #272822\">\"z\"</span><span style=\"color: #f8f8f2; text-decoration-color: #f8f8f2; background-color: #272822\">]})</span> │ 0.001997827 │             │\n",
       "│          │ <span style=\"background-color: #272822\">                                                                   </span> │             │             │\n",
       "│ 3        │ <span style=\"color: #f8f8f2; text-decoration-color: #f8f8f2; background-color: #272822\">    small_df </span><span style=\"color: #ff4689; text-decoration-color: #ff4689; background-color: #272822\">=</span><span style=\"color: #f8f8f2; text-decoration-color: #f8f8f2; background-color: #272822\"> pd</span><span style=\"color: #ff4689; text-decoration-color: #ff4689; background-color: #272822\">.</span><span style=\"color: #f8f8f2; text-decoration-color: #f8f8f2; background-color: #272822\">concat([small_df, small_df])</span><span style=\"background-color: #272822\">                     </span> │ 0.005429612 │             │\n",
       "│          │ <span style=\"background-color: #272822\">                                                                   </span> │             │             │\n",
       "│ 5        │ <span style=\"color: #f8f8f2; text-decoration-color: #f8f8f2; background-color: #272822\">    axis </span><span style=\"color: #ff4689; text-decoration-color: #ff4689; background-color: #272822\">=</span><span style=\"color: #f8f8f2; text-decoration-color: #f8f8f2; background-color: #272822\"> </span><span style=\"color: #ae81ff; text-decoration-color: #ae81ff; background-color: #272822\">0</span><span style=\"background-color: #272822\">                                                       </span> │             │             │\n",
       "│          │ <span style=\"background-color: #272822\">                                                                   </span> │             │             │\n",
       "│ 6        │ <span style=\"color: #f8f8f2; text-decoration-color: #f8f8f2; background-color: #272822\">    </span><span style=\"color: #66d9ef; text-decoration-color: #66d9ef; background-color: #272822\">for</span><span style=\"color: #f8f8f2; text-decoration-color: #f8f8f2; background-color: #272822\"> i </span><span style=\"color: #ff4689; text-decoration-color: #ff4689; background-color: #272822\">in</span><span style=\"color: #f8f8f2; text-decoration-color: #f8f8f2; background-color: #272822\"> range(</span><span style=\"color: #ae81ff; text-decoration-color: #ae81ff; background-color: #272822\">0</span><span style=\"color: #f8f8f2; text-decoration-color: #f8f8f2; background-color: #272822\">, </span><span style=\"color: #ae81ff; text-decoration-color: #ae81ff; background-color: #272822\">2</span><span style=\"color: #f8f8f2; text-decoration-color: #f8f8f2; background-color: #272822\">):</span><span style=\"background-color: #272822\">                                          </span> │             │             │\n",
       "│          │ <span style=\"background-color: #272822\">                                                                   </span> │             │             │\n",
       "│ 7        │ <span style=\"color: #f8f8f2; text-decoration-color: #f8f8f2; background-color: #272822\">        small_df</span><span style=\"color: #ff4689; text-decoration-color: #ff4689; background-color: #272822\">.</span><span style=\"color: #f8f8f2; text-decoration-color: #f8f8f2; background-color: #272822\">min(axis</span><span style=\"color: #ff4689; text-decoration-color: #ff4689; background-color: #272822\">=</span><span style=\"color: #f8f8f2; text-decoration-color: #f8f8f2; background-color: #272822\">axis, numeric_only</span><span style=\"color: #ff4689; text-decoration-color: #ff4689; background-color: #272822\">=</span><span style=\"color: #66d9ef; text-decoration-color: #66d9ef; background-color: #272822\">True</span><span style=\"color: #f8f8f2; text-decoration-color: #f8f8f2; background-color: #272822\">)</span><span style=\"background-color: #272822\">                 </span> │ 0.005825124 │             │\n",
       "│          │ <span style=\"background-color: #272822\">                                                                   </span> │             │             │\n",
       "│ 8        │ <span style=\"color: #f8f8f2; text-decoration-color: #f8f8f2; background-color: #272822\">        axis </span><span style=\"color: #ff4689; text-decoration-color: #ff4689; background-color: #272822\">=</span><span style=\"color: #f8f8f2; text-decoration-color: #f8f8f2; background-color: #272822\"> </span><span style=\"color: #ae81ff; text-decoration-color: #ae81ff; background-color: #272822\">1</span><span style=\"background-color: #272822\">                                                   </span> │             │             │\n",
       "│          │ <span style=\"background-color: #272822\">                                                                   </span> │             │             │\n",
       "│ 10       │ <span style=\"color: #f8f8f2; text-decoration-color: #f8f8f2; background-color: #272822\">    counts </span><span style=\"color: #ff4689; text-decoration-color: #ff4689; background-color: #272822\">=</span><span style=\"color: #f8f8f2; text-decoration-color: #f8f8f2; background-color: #272822\"> small_df</span><span style=\"color: #ff4689; text-decoration-color: #ff4689; background-color: #272822\">.</span><span style=\"color: #f8f8f2; text-decoration-color: #f8f8f2; background-color: #272822\">groupby(</span><span style=\"color: #e6db74; text-decoration-color: #e6db74; background-color: #272822\">\"a\"</span><span style=\"color: #f8f8f2; text-decoration-color: #f8f8f2; background-color: #272822\">)</span><span style=\"color: #ff4689; text-decoration-color: #ff4689; background-color: #272822\">.</span><span style=\"color: #f8f8f2; text-decoration-color: #f8f8f2; background-color: #272822\">b</span><span style=\"color: #ff4689; text-decoration-color: #ff4689; background-color: #272822\">.</span><span style=\"color: #f8f8f2; text-decoration-color: #f8f8f2; background-color: #272822\">count()</span><span style=\"background-color: #272822\">                       </span> │ 0.010314357 │             │\n",
       "│          │ <span style=\"background-color: #272822\">                                                                   </span> │             │             │\n",
       "└──────────┴─────────────────────────────────────────────────────────────────────┴─────────────┴─────────────┘\n",
       "</pre>\n"
      ],
      "text/plain": [
       "\u001b[3m                                                                                                              \u001b[0m\n",
       "\u001b[3m                                          Total time elapsed: 0.737 seconds                                   \u001b[0m\n",
       "\u001b[3m                                                                                                              \u001b[0m\n",
       "\u001b[3m                                                        Stats                                                 \u001b[0m\n",
       "\u001b[3m                                                                                                              \u001b[0m\n",
       "┏━━━━━━━━━━┳━━━━━━━━━━━━━━━━━━━━━━━━━━━━━━━━━━━━━━━━━━━━━━━━━━━━━━━━━━━━━━━━━━━━━┳━━━━━━━━━━━━━┳━━━━━━━━━━━━━┓\n",
       "┃\u001b[1m \u001b[0m\u001b[1mLine no.\u001b[0m\u001b[1m \u001b[0m┃\u001b[1m \u001b[0m\u001b[1mLine                                                               \u001b[0m\u001b[1m \u001b[0m┃\u001b[1m \u001b[0m\u001b[1mGPU TIME(s)\u001b[0m\u001b[1m \u001b[0m┃\u001b[1m \u001b[0m\u001b[1mCPU TIME(s)\u001b[0m\u001b[1m \u001b[0m┃\n",
       "┡━━━━━━━━━━╇━━━━━━━━━━━━━━━━━━━━━━━━━━━━━━━━━━━━━━━━━━━━━━━━━━━━━━━━━━━━━━━━━━━━━╇━━━━━━━━━━━━━╇━━━━━━━━━━━━━┩\n",
       "│ 2        │ \u001b[38;2;248;248;242;48;2;39;40;34m    \u001b[0m\u001b[38;2;248;248;242;48;2;39;40;34msmall_df\u001b[0m\u001b[38;2;248;248;242;48;2;39;40;34m \u001b[0m\u001b[38;2;255;70;137;48;2;39;40;34m=\u001b[0m\u001b[38;2;248;248;242;48;2;39;40;34m \u001b[0m\u001b[38;2;248;248;242;48;2;39;40;34mpd\u001b[0m\u001b[38;2;255;70;137;48;2;39;40;34m.\u001b[0m\u001b[38;2;248;248;242;48;2;39;40;34mDataFrame\u001b[0m\u001b[38;2;248;248;242;48;2;39;40;34m(\u001b[0m\u001b[38;2;248;248;242;48;2;39;40;34m{\u001b[0m\u001b[38;2;230;219;116;48;2;39;40;34m'\u001b[0m\u001b[38;2;230;219;116;48;2;39;40;34ma\u001b[0m\u001b[38;2;230;219;116;48;2;39;40;34m'\u001b[0m\u001b[38;2;248;248;242;48;2;39;40;34m:\u001b[0m\u001b[38;2;248;248;242;48;2;39;40;34m \u001b[0m\u001b[38;2;248;248;242;48;2;39;40;34m[\u001b[0m\u001b[38;2;174;129;255;48;2;39;40;34m0\u001b[0m\u001b[38;2;248;248;242;48;2;39;40;34m,\u001b[0m\u001b[38;2;248;248;242;48;2;39;40;34m \u001b[0m\u001b[38;2;174;129;255;48;2;39;40;34m1\u001b[0m\u001b[38;2;248;248;242;48;2;39;40;34m,\u001b[0m\u001b[38;2;248;248;242;48;2;39;40;34m \u001b[0m\u001b[38;2;174;129;255;48;2;39;40;34m2\u001b[0m\u001b[38;2;248;248;242;48;2;39;40;34m]\u001b[0m\u001b[38;2;248;248;242;48;2;39;40;34m,\u001b[0m\u001b[38;2;248;248;242;48;2;39;40;34m \u001b[0m\u001b[38;2;230;219;116;48;2;39;40;34m'\u001b[0m\u001b[38;2;230;219;116;48;2;39;40;34mb\u001b[0m\u001b[38;2;230;219;116;48;2;39;40;34m'\u001b[0m\u001b[38;2;248;248;242;48;2;39;40;34m:\u001b[0m\u001b[38;2;248;248;242;48;2;39;40;34m \u001b[0m\u001b[38;2;248;248;242;48;2;39;40;34m[\u001b[0m\u001b[38;2;230;219;116;48;2;39;40;34m\"\u001b[0m\u001b[38;2;230;219;116;48;2;39;40;34mx\u001b[0m\u001b[38;2;230;219;116;48;2;39;40;34m\"\u001b[0m\u001b[38;2;248;248;242;48;2;39;40;34m,\u001b[0m\u001b[38;2;248;248;242;48;2;39;40;34m \u001b[0m\u001b[38;2;230;219;116;48;2;39;40;34m\"\u001b[0m\u001b[38;2;230;219;116;48;2;39;40;34my\u001b[0m\u001b[38;2;230;219;116;48;2;39;40;34m\"\u001b[0m\u001b[38;2;248;248;242;48;2;39;40;34m,\u001b[0m\u001b[38;2;248;248;242;48;2;39;40;34m \u001b[0m\u001b[38;2;230;219;116;48;2;39;40;34m\"\u001b[0m\u001b[38;2;230;219;116;48;2;39;40;34mz\u001b[0m\u001b[38;2;230;219;116;48;2;39;40;34m\"\u001b[0m\u001b[38;2;248;248;242;48;2;39;40;34m]\u001b[0m\u001b[38;2;248;248;242;48;2;39;40;34m}\u001b[0m\u001b[38;2;248;248;242;48;2;39;40;34m)\u001b[0m │ 0.001997827 │             │\n",
       "│          │ \u001b[48;2;39;40;34m                                                                   \u001b[0m │             │             │\n",
       "│ 3        │ \u001b[38;2;248;248;242;48;2;39;40;34m    \u001b[0m\u001b[38;2;248;248;242;48;2;39;40;34msmall_df\u001b[0m\u001b[38;2;248;248;242;48;2;39;40;34m \u001b[0m\u001b[38;2;255;70;137;48;2;39;40;34m=\u001b[0m\u001b[38;2;248;248;242;48;2;39;40;34m \u001b[0m\u001b[38;2;248;248;242;48;2;39;40;34mpd\u001b[0m\u001b[38;2;255;70;137;48;2;39;40;34m.\u001b[0m\u001b[38;2;248;248;242;48;2;39;40;34mconcat\u001b[0m\u001b[38;2;248;248;242;48;2;39;40;34m(\u001b[0m\u001b[38;2;248;248;242;48;2;39;40;34m[\u001b[0m\u001b[38;2;248;248;242;48;2;39;40;34msmall_df\u001b[0m\u001b[38;2;248;248;242;48;2;39;40;34m,\u001b[0m\u001b[38;2;248;248;242;48;2;39;40;34m \u001b[0m\u001b[38;2;248;248;242;48;2;39;40;34msmall_df\u001b[0m\u001b[38;2;248;248;242;48;2;39;40;34m]\u001b[0m\u001b[38;2;248;248;242;48;2;39;40;34m)\u001b[0m\u001b[48;2;39;40;34m                     \u001b[0m │ 0.005429612 │             │\n",
       "│          │ \u001b[48;2;39;40;34m                                                                   \u001b[0m │             │             │\n",
       "│ 5        │ \u001b[38;2;248;248;242;48;2;39;40;34m    \u001b[0m\u001b[38;2;248;248;242;48;2;39;40;34maxis\u001b[0m\u001b[38;2;248;248;242;48;2;39;40;34m \u001b[0m\u001b[38;2;255;70;137;48;2;39;40;34m=\u001b[0m\u001b[38;2;248;248;242;48;2;39;40;34m \u001b[0m\u001b[38;2;174;129;255;48;2;39;40;34m0\u001b[0m\u001b[48;2;39;40;34m                                                       \u001b[0m │             │             │\n",
       "│          │ \u001b[48;2;39;40;34m                                                                   \u001b[0m │             │             │\n",
       "│ 6        │ \u001b[38;2;248;248;242;48;2;39;40;34m    \u001b[0m\u001b[38;2;102;217;239;48;2;39;40;34mfor\u001b[0m\u001b[38;2;248;248;242;48;2;39;40;34m \u001b[0m\u001b[38;2;248;248;242;48;2;39;40;34mi\u001b[0m\u001b[38;2;248;248;242;48;2;39;40;34m \u001b[0m\u001b[38;2;255;70;137;48;2;39;40;34min\u001b[0m\u001b[38;2;248;248;242;48;2;39;40;34m \u001b[0m\u001b[38;2;248;248;242;48;2;39;40;34mrange\u001b[0m\u001b[38;2;248;248;242;48;2;39;40;34m(\u001b[0m\u001b[38;2;174;129;255;48;2;39;40;34m0\u001b[0m\u001b[38;2;248;248;242;48;2;39;40;34m,\u001b[0m\u001b[38;2;248;248;242;48;2;39;40;34m \u001b[0m\u001b[38;2;174;129;255;48;2;39;40;34m2\u001b[0m\u001b[38;2;248;248;242;48;2;39;40;34m)\u001b[0m\u001b[38;2;248;248;242;48;2;39;40;34m:\u001b[0m\u001b[48;2;39;40;34m                                          \u001b[0m │             │             │\n",
       "│          │ \u001b[48;2;39;40;34m                                                                   \u001b[0m │             │             │\n",
       "│ 7        │ \u001b[38;2;248;248;242;48;2;39;40;34m        \u001b[0m\u001b[38;2;248;248;242;48;2;39;40;34msmall_df\u001b[0m\u001b[38;2;255;70;137;48;2;39;40;34m.\u001b[0m\u001b[38;2;248;248;242;48;2;39;40;34mmin\u001b[0m\u001b[38;2;248;248;242;48;2;39;40;34m(\u001b[0m\u001b[38;2;248;248;242;48;2;39;40;34maxis\u001b[0m\u001b[38;2;255;70;137;48;2;39;40;34m=\u001b[0m\u001b[38;2;248;248;242;48;2;39;40;34maxis\u001b[0m\u001b[38;2;248;248;242;48;2;39;40;34m,\u001b[0m\u001b[38;2;248;248;242;48;2;39;40;34m \u001b[0m\u001b[38;2;248;248;242;48;2;39;40;34mnumeric_only\u001b[0m\u001b[38;2;255;70;137;48;2;39;40;34m=\u001b[0m\u001b[38;2;102;217;239;48;2;39;40;34mTrue\u001b[0m\u001b[38;2;248;248;242;48;2;39;40;34m)\u001b[0m\u001b[48;2;39;40;34m                 \u001b[0m │ 0.005825124 │             │\n",
       "│          │ \u001b[48;2;39;40;34m                                                                   \u001b[0m │             │             │\n",
       "│ 8        │ \u001b[38;2;248;248;242;48;2;39;40;34m        \u001b[0m\u001b[38;2;248;248;242;48;2;39;40;34maxis\u001b[0m\u001b[38;2;248;248;242;48;2;39;40;34m \u001b[0m\u001b[38;2;255;70;137;48;2;39;40;34m=\u001b[0m\u001b[38;2;248;248;242;48;2;39;40;34m \u001b[0m\u001b[38;2;174;129;255;48;2;39;40;34m1\u001b[0m\u001b[48;2;39;40;34m                                                   \u001b[0m │             │             │\n",
       "│          │ \u001b[48;2;39;40;34m                                                                   \u001b[0m │             │             │\n",
       "│ 10       │ \u001b[38;2;248;248;242;48;2;39;40;34m    \u001b[0m\u001b[38;2;248;248;242;48;2;39;40;34mcounts\u001b[0m\u001b[38;2;248;248;242;48;2;39;40;34m \u001b[0m\u001b[38;2;255;70;137;48;2;39;40;34m=\u001b[0m\u001b[38;2;248;248;242;48;2;39;40;34m \u001b[0m\u001b[38;2;248;248;242;48;2;39;40;34msmall_df\u001b[0m\u001b[38;2;255;70;137;48;2;39;40;34m.\u001b[0m\u001b[38;2;248;248;242;48;2;39;40;34mgroupby\u001b[0m\u001b[38;2;248;248;242;48;2;39;40;34m(\u001b[0m\u001b[38;2;230;219;116;48;2;39;40;34m\"\u001b[0m\u001b[38;2;230;219;116;48;2;39;40;34ma\u001b[0m\u001b[38;2;230;219;116;48;2;39;40;34m\"\u001b[0m\u001b[38;2;248;248;242;48;2;39;40;34m)\u001b[0m\u001b[38;2;255;70;137;48;2;39;40;34m.\u001b[0m\u001b[38;2;248;248;242;48;2;39;40;34mb\u001b[0m\u001b[38;2;255;70;137;48;2;39;40;34m.\u001b[0m\u001b[38;2;248;248;242;48;2;39;40;34mcount\u001b[0m\u001b[38;2;248;248;242;48;2;39;40;34m(\u001b[0m\u001b[38;2;248;248;242;48;2;39;40;34m)\u001b[0m\u001b[48;2;39;40;34m                       \u001b[0m │ 0.010314357 │             │\n",
       "│          │ \u001b[48;2;39;40;34m                                                                   \u001b[0m │             │             │\n",
       "└──────────┴─────────────────────────────────────────────────────────────────────┴─────────────┴─────────────┘\n"
      ]
     },
     "metadata": {},
     "output_type": "display_data"
    }
   ],
   "source": [
    "%%cudf.pandas.line_profile\n",
    "\n",
    "small_df = pd.DataFrame({'a': [0, 1, 2], 'b': [\"x\", \"y\", \"z\"]})\n",
    "small_df = pd.concat([small_df, small_df])\n",
    "\n",
    "axis = 0\n",
    "for i in range(0, 2):\n",
    "    small_df.min(axis=axis, numeric_only=True)\n",
    "    axis = 1\n",
    "\n",
    "counts = small_df.groupby(\"a\").b.count()"
   ]
  },
  {
   "cell_type": "markdown",
   "metadata": {
    "id": "VCZ6BxwBpfjL"
   },
   "source": [
    "<a name='s1-5.2'></a>\n",
    "### Behind the scenes: What's going on here? ###\n",
    "When you load cuDF's pandas accelerator mode, pandas types like `Series` and `DataFrame` are replaced by proxy objects that dispatch operations to cuDF when possible. We can verify that `cudf.pandas` is active by looking at our `pd` variable:"
   ]
  },
  {
   "cell_type": "code",
   "execution_count": 8,
   "metadata": {
    "colab": {
     "base_uri": "https://localhost:8080/"
    },
    "id": "jogk5UrgeTkS",
    "outputId": "c4b9b4cd-894b-4379-fde2-fee17138bd36"
   },
   "outputs": [
    {
     "data": {
      "text/plain": [
       "<module 'pandas' (ModuleAccelerator(fast=cudf, slow=pandas))>"
      ]
     },
     "execution_count": 8,
     "metadata": {},
     "output_type": "execute_result"
    }
   ],
   "source": [
    "pd"
   ]
  },
  {
   "cell_type": "markdown",
   "metadata": {
    "id": "vxh70rpDph3I"
   },
   "source": [
    "As a result, all pandas functions, methods, and created objects are proxies:"
   ]
  },
  {
   "cell_type": "code",
   "execution_count": 9,
   "metadata": {
    "colab": {
     "base_uri": "https://localhost:8080/"
    },
    "id": "RYTCGl7spgjs",
    "outputId": "ef9a2113-1ea4-4104-c28e-5c97286fb72a"
   },
   "outputs": [
    {
     "data": {
      "text/plain": [
       "cudf.pandas.fast_slow_proxy._FunctionProxy"
      ]
     },
     "execution_count": 9,
     "metadata": {},
     "output_type": "execute_result"
    }
   ],
   "source": [
    "type(pd.read_csv)"
   ]
  },
  {
   "cell_type": "markdown",
   "metadata": {
    "id": "9-NvKu7XplmO"
   },
   "source": [
    "Operations supported by cuDF will be **very** fast:"
   ]
  },
  {
   "cell_type": "code",
   "execution_count": 10,
   "metadata": {
    "colab": {
     "base_uri": "https://localhost:8080/"
    },
    "id": "MFvLJo4upnUG",
    "outputId": "3cc21f0c-798f-4589-c8e3-23e52fd052ae"
   },
   "outputs": [
    {
     "name": "stdout",
     "output_type": "stream",
     "text": [
      "CPU times: user 1.41 ms, sys: 1.88 ms, total: 3.29 ms\n",
      "Wall time: 2.05 ms\n"
     ]
    },
    {
     "data": {
      "text/plain": [
       "Registration State       15435607\n",
       "Violation Description    15435607\n",
       "Vehicle Body Type        15435607\n",
       "Issue Date               15435607\n",
       "Summons Number           15435607\n",
       "issue_weekday            15435607\n",
       "dtype: int64"
      ]
     },
     "execution_count": 10,
     "metadata": {},
     "output_type": "execute_result"
    }
   ],
   "source": [
    "%%time\n",
    "df.count(axis=0)"
   ]
  },
  {
   "cell_type": "markdown",
   "metadata": {
    "id": "Np6VP-wSpomO"
   },
   "source": [
    "Operations not supported by cuDF will be slower, as they fall back to using pandas (copying data between the CPU and GPU under the hood as needed). For example, cuDF does not currently support the `axis=` parameter to the `count` method. So, this operation will run on the CPU and be noticeably slower than the previous one."
   ]
  },
  {
   "cell_type": "code",
   "execution_count": 11,
   "metadata": {
    "colab": {
     "base_uri": "https://localhost:8080/"
    },
    "id": "mThydJIYpuha",
    "outputId": "77a843f4-0ead-4b61-a2b3-23952a2dd35d"
   },
   "outputs": [
    {
     "name": "stdout",
     "output_type": "stream",
     "text": [
      "CPU times: user 4.77 s, sys: 1.04 s, total: 5.81 s\n",
      "Wall time: 5.65 s\n"
     ]
    },
    {
     "data": {
      "text/plain": [
       "0           6\n",
       "1           6\n",
       "2           6\n",
       "3           6\n",
       "4           6\n",
       "           ..\n",
       "15435602    6\n",
       "15435603    6\n",
       "15435604    6\n",
       "15435605    6\n",
       "15435606    6\n",
       "Length: 15435607, dtype: int64"
      ]
     },
     "execution_count": 11,
     "metadata": {},
     "output_type": "execute_result"
    }
   ],
   "source": [
    "%%time\n",
    "df.count(axis=1) # This will use pandas, because cuDF doesn't support axis=1 for the .count() method"
   ]
  },
  {
   "cell_type": "markdown",
   "metadata": {
    "id": "tbDVvkP2pyra"
   },
   "source": [
    "But the story doesn't end here. We often need to mix our own code with third-party libraries that other people have written. Many of these libraries accept pandas objects as inputs."
   ]
  },
  {
   "cell_type": "markdown",
   "metadata": {
    "id": "3yK3a-mIp0vr"
   },
   "source": [
    "<a name='s1-6'></a>\n",
    "## Using third-party libraries with cuDF's pandas accelerator mode ##\n",
    "You can pass pandas objects to third-party libraries when using `cudf.pandas`, just like you would when using regular pandas. Below, we show an example of using [plotly-express](https://plotly.com/python/plotly-express/) to visualize the data we've been processing:"
   ]
  },
  {
   "cell_type": "markdown",
   "metadata": {
    "id": "H0QwPQcAp2RV"
   },
   "source": [
    "<a name='s1-6.1'></a>\n",
    "### Visualizing which states have more pickup trucks relative to other vehicles? ###"
   ]
  },
  {
   "cell_type": "code",
   "execution_count": null,
   "metadata": {
    "colab": {
     "base_uri": "https://localhost:8080/",
     "height": 542
    },
    "id": "Ecs213eEqCd9",
    "outputId": "5c798902-301c-4aaf-dcf2-18ffd863befd"
   },
   "outputs": [],
   "source": [
    "import plotly.express as px\n",
    "\n",
    "df = df.rename(columns={\n",
    "    \"Registration State\": \"reg_state\",\n",
    "    \"Vehicle Body Type\": \"vehicle_type\",\n",
    "})\n",
    "\n",
    "# vehicle counts per state:\n",
    "counts = df.groupby(\"reg_state\").size().sort_index()\n",
    "# vehicles with type \"PICK\" (Pickup Truck)\n",
    "pickup_counts = df.where(df[\"vehicle_type\"] == \"PICK\").groupby(\"reg_state\").size()\n",
    "# percentage of pickup trucks by state:\n",
    "pickup_frac = ((pickup_counts / counts) * 100).rename(\"% Pickup Trucks\")\n",
    "del pickup_frac[\"MB\"]  # (Manitoba is a huge outlier!)\n",
    "\n",
    "# plot the results:\n",
    "pickup_frac = pickup_frac.reset_index()\n",
    "px.choropleth(pickup_frac, locations=\"reg_state\", color=\"% Pickup Trucks\", locationmode=\"USA-states\", scope=\"usa\")"
   ]
  },
  {
   "cell_type": "markdown",
   "metadata": {
    "id": "9bgMrWs5qDG_"
   },
   "source": [
    "<a name='s1-6.2'></a>\n",
    "### Beyond just passing data: **Accelerating** third-party code ###\n",
    "Being able to pass these proxy objects to libraries like Plotly is great, but the benefits don't end there. When you enable cuDF's pandas accelerator mode, pandas operations running **inside the third-party library's functions** will also benefit from GPU acceleration where possible! Below, you can see an image illustrating how `cudf.pandas` can accelerate the pandas backend in Ibis, a library that provides a unified DataFrame API to various backends. We ran this example on a system with an NVIDIA H100 GPU and an Intel Xeon Platinum 8480CL CPU. By loading the `cudf.pandas` extension, pandas operations within Ibis can use the GPU with zero code change. It just works.\n",
    "\n",
    "<p><img src='images/cuDF.png' width=720></p>"
   ]
  },
  {
   "cell_type": "markdown",
   "metadata": {
    "id": "pyVNtGUhtFs5"
   },
   "source": [
    "<a name='s1-7'></a>\n",
    "## Conclusion ##\n",
    "With cuDF's pandas accelerator mode, you can keep using pandas as your primary dataframe library. When things start to get a little slow, just load the cuDF extension and run your existing code on a GPU! To learn more about cuDF's pandas accelerator mode we encourage you to visit [rapids.ai/cudf-pandas](https://rapids.ai/cudf-pandas)."
   ]
  },
  {
   "cell_type": "markdown",
   "metadata": {},
   "source": [
    "**Well Done!** Let's move to the [next notebook](02_cuML.ipynb). "
   ]
  },
  {
   "cell_type": "markdown",
   "metadata": {},
   "source": [
    "<img src='images/DLI_Header.png'>"
   ]
  }
 ],
 "metadata": {
  "accelerator": "GPU",
  "colab": {
   "collapsed_sections": [
    "hAvNFbYKWwti",
    "VmkFv9ZUW37g",
    "H7_9EmGyXUJd",
    "VjFfQLZHXehM",
    "JKBQcT64XlMr",
    "VgAWS0yXXtGj",
    "00m6gUxqeGzk",
    "H0QwPQcAp2RV"
   ],
   "gpuType": "T4",
   "provenance": []
  },
  "kernelspec": {
   "display_name": "Python 3 (ipykernel)",
   "language": "python",
   "name": "python3"
  },
  "language_info": {
   "codemirror_mode": {
    "name": "ipython",
    "version": 3
   },
   "file_extension": ".py",
   "mimetype": "text/x-python",
   "name": "python",
   "nbconvert_exporter": "python",
   "pygments_lexer": "ipython3",
   "version": "3.13.5"
  }
 },
 "nbformat": 4,
 "nbformat_minor": 4
}
